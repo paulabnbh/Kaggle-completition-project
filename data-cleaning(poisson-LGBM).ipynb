{
 "cells": [
  {
   "cell_type": "code",
   "execution_count": 44,
   "id": "81132431",
   "metadata": {},
   "outputs": [],
   "source": [
    "import matplotlib.pyplot as plt\n",
    "import numpy as np\n",
    "import pandas as pd\n",
    "import seaborn as sns\n",
    "from lazypredict.Supervised import LazyRegressor \n",
    "from sklearn.preprocessing import LabelEncoder\n",
    "from sklearn.model_selection import train_test_split as tts\n",
    "from sklearn.linear_model import PoissonRegressor\n",
    "from lightgbm import LGBMRegressor\n",
    "import warnings\n",
    "warnings.filterwarnings('ignore')"
   ]
  },
  {
   "cell_type": "code",
   "execution_count": 2,
   "id": "f3924c3e",
   "metadata": {},
   "outputs": [],
   "source": [
    "salarios =  pd.read_csv('data/salaries_data.csv')\n",
    "testeo =  pd.read_csv('data/testeo.csv')\n",
    "muestra = pd.read_csv('data/muestra.csv')"
   ]
  },
  {
   "cell_type": "code",
   "execution_count": 3,
   "id": "bd33c3bf",
   "metadata": {},
   "outputs": [
    {
     "data": {
      "text/plain": [
       "(500, 11)"
      ]
     },
     "execution_count": 3,
     "metadata": {},
     "output_type": "execute_result"
    }
   ],
   "source": [
    "salarios.shape"
   ]
  },
  {
   "cell_type": "code",
   "execution_count": 4,
   "id": "ba80d983",
   "metadata": {},
   "outputs": [
    {
     "data": {
      "text/plain": [
       "(107, 8)"
      ]
     },
     "execution_count": 4,
     "metadata": {},
     "output_type": "execute_result"
    }
   ],
   "source": [
    "testeo.shape"
   ]
  },
  {
   "cell_type": "code",
   "execution_count": 5,
   "id": "f63a3fd4",
   "metadata": {},
   "outputs": [],
   "source": [
    "salaries = salarios.salary_in_usd"
   ]
  },
  {
   "cell_type": "code",
   "execution_count": 6,
   "id": "ee5a4f9f",
   "metadata": {},
   "outputs": [],
   "source": [
    "salarios.drop(columns = ['salary', 'salary_currency', 'salary_in_usd'], inplace = True)"
   ]
  },
  {
   "cell_type": "code",
   "execution_count": 7,
   "id": "2983a48f",
   "metadata": {
    "scrolled": true
   },
   "outputs": [
    {
     "name": "stdout",
     "output_type": "stream",
     "text": [
      "<class 'pandas.core.frame.DataFrame'>\n",
      "RangeIndex: 500 entries, 0 to 499\n",
      "Data columns (total 8 columns):\n",
      " #   Column              Non-Null Count  Dtype \n",
      "---  ------              --------------  ----- \n",
      " 0   work_year           500 non-null    int64 \n",
      " 1   experience_level    500 non-null    object\n",
      " 2   employment_type     500 non-null    object\n",
      " 3   job_title           500 non-null    object\n",
      " 4   employee_residence  500 non-null    object\n",
      " 5   remote_ratio        500 non-null    int64 \n",
      " 6   company_location    500 non-null    object\n",
      " 7   company_size        500 non-null    object\n",
      "dtypes: int64(2), object(6)\n",
      "memory usage: 31.4+ KB\n",
      "<class 'pandas.core.frame.DataFrame'>\n",
      "RangeIndex: 107 entries, 0 to 106\n",
      "Data columns (total 8 columns):\n",
      " #   Column              Non-Null Count  Dtype \n",
      "---  ------              --------------  ----- \n",
      " 0   work_year           107 non-null    int64 \n",
      " 1   experience_level    107 non-null    object\n",
      " 2   employment_type     107 non-null    object\n",
      " 3   job_title           107 non-null    object\n",
      " 4   employee_residence  107 non-null    object\n",
      " 5   remote_ratio        107 non-null    int64 \n",
      " 6   company_location    107 non-null    object\n",
      " 7   company_size        107 non-null    object\n",
      "dtypes: int64(2), object(6)\n",
      "memory usage: 6.8+ KB\n"
     ]
    },
    {
     "data": {
      "text/plain": [
       "(None, None)"
      ]
     },
     "execution_count": 7,
     "metadata": {},
     "output_type": "execute_result"
    }
   ],
   "source": [
    "salarios.info(), testeo.info()"
   ]
  },
  {
   "cell_type": "code",
   "execution_count": 8,
   "id": "ce0e1a7b",
   "metadata": {},
   "outputs": [],
   "source": [
    "concat = pd.concat([salarios, testeo])"
   ]
  },
  {
   "cell_type": "code",
   "execution_count": 9,
   "id": "b0777648",
   "metadata": {},
   "outputs": [
    {
     "data": {
      "text/plain": [
       "SE    280\n",
       "MI    213\n",
       "EN     88\n",
       "EX     26\n",
       "Name: experience_level, dtype: int64"
      ]
     },
     "execution_count": 9,
     "metadata": {},
     "output_type": "execute_result"
    }
   ],
   "source": [
    "concat.experience_level.value_counts()"
   ]
  },
  {
   "cell_type": "markdown",
   "id": "c67bded6",
   "metadata": {},
   "source": [
    "Siginifcado de cada variable y número asignado a cada una:\n",
    "\n",
    "+ EN: entry level -> 1\n",
    "+ MI: mid - senior -> 2\n",
    "+ SE: senior -> 3\n",
    "+ EX: executive -> 4"
   ]
  },
  {
   "cell_type": "code",
   "execution_count": 10,
   "id": "01ecc6da",
   "metadata": {},
   "outputs": [],
   "source": [
    "exp_level = {'EN': 1, 'MI': 2, 'SE': 3, 'EX': 4}\n",
    "experience_level = []\n",
    "for e in concat.experience_level:\n",
    "    if e in exp_level:\n",
    "        experience_level.append(exp_level[e])"
   ]
  },
  {
   "cell_type": "code",
   "execution_count": 11,
   "id": "6a2ff89b",
   "metadata": {},
   "outputs": [],
   "source": [
    "concat['experience_level'] = experience_level"
   ]
  },
  {
   "cell_type": "code",
   "execution_count": 12,
   "id": "b09f0891",
   "metadata": {},
   "outputs": [
    {
     "data": {
      "text/plain": [
       "FT    588\n",
       "PT     10\n",
       "CT      5\n",
       "FL      4\n",
       "Name: employment_type, dtype: int64"
      ]
     },
     "execution_count": 12,
     "metadata": {},
     "output_type": "execute_result"
    }
   ],
   "source": [
    "concat.employment_type.value_counts()"
   ]
  },
  {
   "cell_type": "markdown",
   "id": "bfc2772a",
   "metadata": {},
   "source": [
    "Siginifcado de cada variable y número asignado a cada una:\n",
    "\n",
    "+ FT: full-time -> 4\n",
    "+ PT: part-time -> 3\n",
    "+ CT: contract -> 2\n",
    "+ FL: freelance -> 1"
   ]
  },
  {
   "cell_type": "code",
   "execution_count": 13,
   "id": "c5af96c7",
   "metadata": {},
   "outputs": [],
   "source": [
    "emp_type = {'FL': 1, 'CT': 2, 'PT': 3, 'FT': 4}\n",
    "employment_type = []\n",
    "for e in concat.employment_type:\n",
    "    if e in emp_type:\n",
    "        employment_type.append(emp_type[e])"
   ]
  },
  {
   "cell_type": "code",
   "execution_count": 14,
   "id": "a691d5e3",
   "metadata": {},
   "outputs": [],
   "source": [
    "concat['employment_type'] = employment_type"
   ]
  },
  {
   "cell_type": "code",
   "execution_count": 18,
   "id": "12140c22",
   "metadata": {},
   "outputs": [
    {
     "data": {
      "text/html": [
       "<div>\n",
       "<style scoped>\n",
       "    .dataframe tbody tr th:only-of-type {\n",
       "        vertical-align: middle;\n",
       "    }\n",
       "\n",
       "    .dataframe tbody tr th {\n",
       "        vertical-align: top;\n",
       "    }\n",
       "\n",
       "    .dataframe thead th {\n",
       "        text-align: right;\n",
       "    }\n",
       "</style>\n",
       "<table border=\"1\" class=\"dataframe\">\n",
       "  <thead>\n",
       "    <tr style=\"text-align: right;\">\n",
       "      <th></th>\n",
       "      <th>work_year</th>\n",
       "      <th>experience_level</th>\n",
       "      <th>employment_type</th>\n",
       "      <th>job_title</th>\n",
       "      <th>employee_residence</th>\n",
       "      <th>remote_ratio</th>\n",
       "      <th>company_location</th>\n",
       "      <th>company_size</th>\n",
       "    </tr>\n",
       "  </thead>\n",
       "  <tbody>\n",
       "    <tr>\n",
       "      <th>0</th>\n",
       "      <td>2022</td>\n",
       "      <td>3</td>\n",
       "      <td>4</td>\n",
       "      <td>17</td>\n",
       "      <td>US</td>\n",
       "      <td>100</td>\n",
       "      <td>48</td>\n",
       "      <td>M</td>\n",
       "    </tr>\n",
       "    <tr>\n",
       "      <th>1</th>\n",
       "      <td>2022</td>\n",
       "      <td>3</td>\n",
       "      <td>4</td>\n",
       "      <td>17</td>\n",
       "      <td>US</td>\n",
       "      <td>100</td>\n",
       "      <td>48</td>\n",
       "      <td>M</td>\n",
       "    </tr>\n",
       "    <tr>\n",
       "      <th>2</th>\n",
       "      <td>2021</td>\n",
       "      <td>2</td>\n",
       "      <td>4</td>\n",
       "      <td>5</td>\n",
       "      <td>US</td>\n",
       "      <td>100</td>\n",
       "      <td>48</td>\n",
       "      <td>M</td>\n",
       "    </tr>\n",
       "    <tr>\n",
       "      <th>3</th>\n",
       "      <td>2021</td>\n",
       "      <td>2</td>\n",
       "      <td>2</td>\n",
       "      <td>36</td>\n",
       "      <td>US</td>\n",
       "      <td>100</td>\n",
       "      <td>48</td>\n",
       "      <td>L</td>\n",
       "    </tr>\n",
       "    <tr>\n",
       "      <th>4</th>\n",
       "      <td>2021</td>\n",
       "      <td>2</td>\n",
       "      <td>4</td>\n",
       "      <td>17</td>\n",
       "      <td>RO</td>\n",
       "      <td>0</td>\n",
       "      <td>48</td>\n",
       "      <td>L</td>\n",
       "    </tr>\n",
       "  </tbody>\n",
       "</table>\n",
       "</div>"
      ],
      "text/plain": [
       "   work_year  experience_level  employment_type  job_title employee_residence  \\\n",
       "0       2022                 3                4         17                 US   \n",
       "1       2022                 3                4         17                 US   \n",
       "2       2021                 2                4          5                 US   \n",
       "3       2021                 2                2         36                 US   \n",
       "4       2021                 2                4         17                 RO   \n",
       "\n",
       "   remote_ratio  company_location company_size  \n",
       "0           100                48            M  \n",
       "1           100                48            M  \n",
       "2           100                48            M  \n",
       "3           100                48            L  \n",
       "4             0                48            L  "
      ]
     },
     "execution_count": 18,
     "metadata": {},
     "output_type": "execute_result"
    }
   ],
   "source": [
    "concat.head()"
   ]
  },
  {
   "cell_type": "code",
   "execution_count": 16,
   "id": "45956c94",
   "metadata": {},
   "outputs": [
    {
     "data": {
      "text/plain": [
       "(607, 8)"
      ]
     },
     "execution_count": 16,
     "metadata": {},
     "output_type": "execute_result"
    }
   ],
   "source": [
    "concat.shape"
   ]
  },
  {
   "cell_type": "code",
   "execution_count": 17,
   "id": "ff12c0f7",
   "metadata": {},
   "outputs": [],
   "source": [
    "le = LabelEncoder()\n",
    "concat['company_location'] = le.fit_transform(concat.company_location)\n",
    "concat['job_title'] = le.fit_transform(concat.job_title)"
   ]
  },
  {
   "cell_type": "code",
   "execution_count": 19,
   "id": "1e9ec202",
   "metadata": {},
   "outputs": [],
   "source": [
    "comp_size = {'L': 3, 'M': 2, 'S': 1}\n",
    "company_size = []\n",
    "for e in concat.company_size:\n",
    "    if e in comp_size:\n",
    "        company_size.append(comp_size[e])\n",
    "\n",
    "concat['company_size'] = company_size"
   ]
  },
  {
   "cell_type": "code",
   "execution_count": 20,
   "id": "b93fe2e1",
   "metadata": {},
   "outputs": [],
   "source": [
    "concat.drop(columns = ['employee_residence'], inplace = True)"
   ]
  },
  {
   "cell_type": "code",
   "execution_count": 22,
   "id": "1a69ab48",
   "metadata": {},
   "outputs": [],
   "source": [
    "sal = concat.iloc[:500, :]\n",
    "test = concat.iloc[500:, :]"
   ]
  },
  {
   "cell_type": "code",
   "execution_count": 23,
   "id": "7f23df9d",
   "metadata": {},
   "outputs": [],
   "source": [
    "sal['salaries'] = salaries"
   ]
  },
  {
   "cell_type": "markdown",
   "id": "fe69100f",
   "metadata": {},
   "source": [
    "### Utilizamos LazyRegressor() para saber cuál es el modelo de Machine Learning que mejor nos puede funcionar a la hora de predecir los salarios"
   ]
  },
  {
   "cell_type": "code",
   "execution_count": 50,
   "id": "8c9541c1",
   "metadata": {},
   "outputs": [],
   "source": [
    "X = sal.drop(columns = ['salaries'])\n",
    "\n",
    "y = sal.salaries"
   ]
  },
  {
   "cell_type": "code",
   "execution_count": 51,
   "id": "a9e54e90",
   "metadata": {},
   "outputs": [],
   "source": [
    "X_train, X_test, y_train, y_test = tts(X, y, train_size = 0.8)"
   ]
  },
  {
   "cell_type": "code",
   "execution_count": 52,
   "id": "562994eb",
   "metadata": {},
   "outputs": [],
   "source": [
    "lazy=LazyRegressor()"
   ]
  },
  {
   "cell_type": "code",
   "execution_count": 54,
   "id": "8af0416d",
   "metadata": {},
   "outputs": [
    {
     "name": "stdout",
     "output_type": "stream",
     "text": [
      "'tuple' object has no attribute '__name__'\n",
      "Invalid Regressor(s)\n"
     ]
    },
    {
     "name": "stderr",
     "output_type": "stream",
     "text": [
      "100%|██████████████████████████████████████████████████████████████████████████████████| 42/42 [00:03<00:00, 11.69it/s]\n"
     ]
    },
    {
     "data": {
      "text/plain": [
       "(                               Adjusted R-Squared  R-Squared       RMSE  \\\n",
       " Model                                                                     \n",
       " LGBMRegressor                                0.44       0.48   46123.51   \n",
       " HistGradientBoostingRegressor                0.44       0.48   46251.30   \n",
       " GradientBoostingRegressor                    0.39       0.43   48134.86   \n",
       " ExtraTreesRegressor                          0.39       0.43   48245.14   \n",
       " RandomForestRegressor                        0.28       0.33   52114.36   \n",
       " XGBRegressor                                 0.28       0.33   52197.20   \n",
       " BaggingRegressor                             0.25       0.30   53412.24   \n",
       " PassiveAggressiveRegressor                   0.23       0.28   54088.44   \n",
       " GammaRegressor                               0.23       0.28   54106.19   \n",
       " HuberRegressor                               0.22       0.28   54369.03   \n",
       " ElasticNet                                   0.19       0.25   55518.93   \n",
       " TweedieRegressor                             0.17       0.23   56033.26   \n",
       " AdaBoostRegressor                            0.17       0.23   56145.67   \n",
       " LassoLarsCV                                  0.17       0.23   56185.71   \n",
       " LarsCV                                       0.17       0.23   56185.71   \n",
       " PoissonRegressor                             0.17       0.23   56236.03   \n",
       " LassoCV                                      0.16       0.22   56323.58   \n",
       " OrthogonalMatchingPursuitCV                  0.15       0.21   56748.78   \n",
       " OrthogonalMatchingPursuit                    0.14       0.20   57124.77   \n",
       " LassoLarsIC                                  0.14       0.20   57155.22   \n",
       " BayesianRidge                                0.14       0.20   57180.86   \n",
       " RidgeCV                                      0.14       0.20   57252.23   \n",
       " SGDRegressor                                 0.13       0.20   57315.68   \n",
       " Ridge                                        0.13       0.19   57491.40   \n",
       " LassoLars                                    0.13       0.19   57495.71   \n",
       " Lasso                                        0.13       0.19   57518.35   \n",
       " TransformedTargetRegressor                   0.13       0.19   57519.54   \n",
       " LinearRegression                             0.13       0.19   57519.54   \n",
       " Lars                                         0.13       0.19   57519.54   \n",
       " KNeighborsRegressor                          0.09       0.16   58625.89   \n",
       " RANSACRegressor                              0.09       0.15   58835.58   \n",
       " SVR                                         -0.08      -0.00   64047.44   \n",
       " QuantileRegressor                           -0.08      -0.01   64075.65   \n",
       " NuSVR                                       -0.09      -0.01   64351.32   \n",
       " ElasticNetCV                                -0.10      -0.02   64610.19   \n",
       " DecisionTreeRegressor                       -0.12      -0.04   65137.02   \n",
       " DummyRegressor                              -0.13      -0.05   65585.11   \n",
       " ExtraTreeRegressor                          -0.24      -0.15   68677.82   \n",
       " LinearSVR                                   -2.75      -2.49  119342.82   \n",
       " MLPRegressor                                -2.77      -2.51  119640.62   \n",
       " KernelRidge                                 -2.97      -2.69  122761.11   \n",
       " GaussianProcessRegressor                 -6510.01   -6049.63 4970804.09   \n",
       " \n",
       "                                Time Taken  \n",
       " Model                                      \n",
       " LGBMRegressor                        0.07  \n",
       " HistGradientBoostingRegressor        0.32  \n",
       " GradientBoostingRegressor            0.07  \n",
       " ExtraTreesRegressor                  0.17  \n",
       " RandomForestRegressor                0.20  \n",
       " XGBRegressor                         0.09  \n",
       " BaggingRegressor                     0.03  \n",
       " PassiveAggressiveRegressor           0.04  \n",
       " GammaRegressor                       0.01  \n",
       " HuberRegressor                       0.02  \n",
       " ElasticNet                           0.01  \n",
       " TweedieRegressor                     0.01  \n",
       " AdaBoostRegressor                    0.07  \n",
       " LassoLarsCV                          0.03  \n",
       " LarsCV                               0.03  \n",
       " PoissonRegressor                     0.01  \n",
       " LassoCV                              0.09  \n",
       " OrthogonalMatchingPursuitCV          0.01  \n",
       " OrthogonalMatchingPursuit            0.01  \n",
       " LassoLarsIC                          0.02  \n",
       " BayesianRidge                        0.02  \n",
       " RidgeCV                              0.01  \n",
       " SGDRegressor                         0.02  \n",
       " Ridge                                0.01  \n",
       " LassoLars                            0.02  \n",
       " Lasso                                0.01  \n",
       " TransformedTargetRegressor           0.01  \n",
       " LinearRegression                     0.02  \n",
       " Lars                                 0.02  \n",
       " KNeighborsRegressor                  0.02  \n",
       " RANSACRegressor                      0.08  \n",
       " SVR                                  0.04  \n",
       " QuantileRegressor                    1.28  \n",
       " NuSVR                                0.03  \n",
       " ElasticNetCV                         0.08  \n",
       " DecisionTreeRegressor                0.02  \n",
       " DummyRegressor                       0.01  \n",
       " ExtraTreeRegressor                   0.01  \n",
       " LinearSVR                            0.01  \n",
       " MLPRegressor                         0.50  \n",
       " KernelRidge                          0.02  \n",
       " GaussianProcessRegressor             0.02  ,\n",
       "                                Adjusted R-Squared  R-Squared       RMSE  \\\n",
       " Model                                                                     \n",
       " LGBMRegressor                                0.44       0.48   46123.51   \n",
       " HistGradientBoostingRegressor                0.44       0.48   46251.30   \n",
       " GradientBoostingRegressor                    0.39       0.43   48134.86   \n",
       " ExtraTreesRegressor                          0.39       0.43   48245.14   \n",
       " RandomForestRegressor                        0.28       0.33   52114.36   \n",
       " XGBRegressor                                 0.28       0.33   52197.20   \n",
       " BaggingRegressor                             0.25       0.30   53412.24   \n",
       " PassiveAggressiveRegressor                   0.23       0.28   54088.44   \n",
       " GammaRegressor                               0.23       0.28   54106.19   \n",
       " HuberRegressor                               0.22       0.28   54369.03   \n",
       " ElasticNet                                   0.19       0.25   55518.93   \n",
       " TweedieRegressor                             0.17       0.23   56033.26   \n",
       " AdaBoostRegressor                            0.17       0.23   56145.67   \n",
       " LassoLarsCV                                  0.17       0.23   56185.71   \n",
       " LarsCV                                       0.17       0.23   56185.71   \n",
       " PoissonRegressor                             0.17       0.23   56236.03   \n",
       " LassoCV                                      0.16       0.22   56323.58   \n",
       " OrthogonalMatchingPursuitCV                  0.15       0.21   56748.78   \n",
       " OrthogonalMatchingPursuit                    0.14       0.20   57124.77   \n",
       " LassoLarsIC                                  0.14       0.20   57155.22   \n",
       " BayesianRidge                                0.14       0.20   57180.86   \n",
       " RidgeCV                                      0.14       0.20   57252.23   \n",
       " SGDRegressor                                 0.13       0.20   57315.68   \n",
       " Ridge                                        0.13       0.19   57491.40   \n",
       " LassoLars                                    0.13       0.19   57495.71   \n",
       " Lasso                                        0.13       0.19   57518.35   \n",
       " TransformedTargetRegressor                   0.13       0.19   57519.54   \n",
       " LinearRegression                             0.13       0.19   57519.54   \n",
       " Lars                                         0.13       0.19   57519.54   \n",
       " KNeighborsRegressor                          0.09       0.16   58625.89   \n",
       " RANSACRegressor                              0.09       0.15   58835.58   \n",
       " SVR                                         -0.08      -0.00   64047.44   \n",
       " QuantileRegressor                           -0.08      -0.01   64075.65   \n",
       " NuSVR                                       -0.09      -0.01   64351.32   \n",
       " ElasticNetCV                                -0.10      -0.02   64610.19   \n",
       " DecisionTreeRegressor                       -0.12      -0.04   65137.02   \n",
       " DummyRegressor                              -0.13      -0.05   65585.11   \n",
       " ExtraTreeRegressor                          -0.24      -0.15   68677.82   \n",
       " LinearSVR                                   -2.75      -2.49  119342.82   \n",
       " MLPRegressor                                -2.77      -2.51  119640.62   \n",
       " KernelRidge                                 -2.97      -2.69  122761.11   \n",
       " GaussianProcessRegressor                 -6510.01   -6049.63 4970804.09   \n",
       " \n",
       "                                Time Taken  \n",
       " Model                                      \n",
       " LGBMRegressor                        0.07  \n",
       " HistGradientBoostingRegressor        0.32  \n",
       " GradientBoostingRegressor            0.07  \n",
       " ExtraTreesRegressor                  0.17  \n",
       " RandomForestRegressor                0.20  \n",
       " XGBRegressor                         0.09  \n",
       " BaggingRegressor                     0.03  \n",
       " PassiveAggressiveRegressor           0.04  \n",
       " GammaRegressor                       0.01  \n",
       " HuberRegressor                       0.02  \n",
       " ElasticNet                           0.01  \n",
       " TweedieRegressor                     0.01  \n",
       " AdaBoostRegressor                    0.07  \n",
       " LassoLarsCV                          0.03  \n",
       " LarsCV                               0.03  \n",
       " PoissonRegressor                     0.01  \n",
       " LassoCV                              0.09  \n",
       " OrthogonalMatchingPursuitCV          0.01  \n",
       " OrthogonalMatchingPursuit            0.01  \n",
       " LassoLarsIC                          0.02  \n",
       " BayesianRidge                        0.02  \n",
       " RidgeCV                              0.01  \n",
       " SGDRegressor                         0.02  \n",
       " Ridge                                0.01  \n",
       " LassoLars                            0.02  \n",
       " Lasso                                0.01  \n",
       " TransformedTargetRegressor           0.01  \n",
       " LinearRegression                     0.02  \n",
       " Lars                                 0.02  \n",
       " KNeighborsRegressor                  0.02  \n",
       " RANSACRegressor                      0.08  \n",
       " SVR                                  0.04  \n",
       " QuantileRegressor                    1.28  \n",
       " NuSVR                                0.03  \n",
       " ElasticNetCV                         0.08  \n",
       " DecisionTreeRegressor                0.02  \n",
       " DummyRegressor                       0.01  \n",
       " ExtraTreeRegressor                   0.01  \n",
       " LinearSVR                            0.01  \n",
       " MLPRegressor                         0.50  \n",
       " KernelRidge                          0.02  \n",
       " GaussianProcessRegressor             0.02  )"
      ]
     },
     "execution_count": 54,
     "metadata": {},
     "output_type": "execute_result"
    }
   ],
   "source": [
    "lazy.fit(X_train, X_test, y_train, y_test)"
   ]
  },
  {
   "cell_type": "code",
   "execution_count": 40,
   "id": "337a59c8",
   "metadata": {},
   "outputs": [],
   "source": [
    "PR = PoissonRegressor()"
   ]
  },
  {
   "cell_type": "code",
   "execution_count": 30,
   "id": "e9ebc9cd",
   "metadata": {},
   "outputs": [
    {
     "data": {
      "text/plain": [
       "PoissonRegressor()"
      ]
     },
     "execution_count": 30,
     "metadata": {},
     "output_type": "execute_result"
    }
   ],
   "source": [
    "PR.fit(X, y)"
   ]
  },
  {
   "cell_type": "code",
   "execution_count": 31,
   "id": "e3b5b7d0",
   "metadata": {},
   "outputs": [],
   "source": [
    "pred = PR.predict(test)"
   ]
  },
  {
   "cell_type": "code",
   "execution_count": 33,
   "id": "ddfe7a02",
   "metadata": {},
   "outputs": [],
   "source": [
    "muestra['salary_in_usd'] = pred"
   ]
  },
  {
   "cell_type": "code",
   "execution_count": 35,
   "id": "23475db2",
   "metadata": {},
   "outputs": [],
   "source": [
    "muestra.to_csv('prediction_models/muestra(Poisson).csv', index = False)"
   ]
  },
  {
   "cell_type": "code",
   "execution_count": 45,
   "id": "45e0f57b",
   "metadata": {},
   "outputs": [],
   "source": [
    "LGBM = LGBMRegressor()"
   ]
  },
  {
   "cell_type": "code",
   "execution_count": 46,
   "id": "3e6f3ef4",
   "metadata": {},
   "outputs": [
    {
     "data": {
      "text/plain": [
       "LGBMRegressor()"
      ]
     },
     "execution_count": 46,
     "metadata": {},
     "output_type": "execute_result"
    }
   ],
   "source": [
    "LGBM.fit(X, y)"
   ]
  },
  {
   "cell_type": "code",
   "execution_count": 47,
   "id": "af8e800e",
   "metadata": {},
   "outputs": [],
   "source": [
    "pred2 = LGBM.predict(test)"
   ]
  },
  {
   "cell_type": "code",
   "execution_count": 48,
   "id": "9c09a743",
   "metadata": {},
   "outputs": [],
   "source": [
    "muestra['salary_in_usd'] = pred2"
   ]
  },
  {
   "cell_type": "code",
   "execution_count": 49,
   "id": "07018830",
   "metadata": {},
   "outputs": [],
   "source": [
    "muestra.to_csv('prediction_models/muestra(LGBM).csv', index = False)"
   ]
  }
 ],
 "metadata": {
  "kernelspec": {
   "display_name": "Python 3 (ipykernel)",
   "language": "python",
   "name": "python3"
  },
  "language_info": {
   "codemirror_mode": {
    "name": "ipython",
    "version": 3
   },
   "file_extension": ".py",
   "mimetype": "text/x-python",
   "name": "python",
   "nbconvert_exporter": "python",
   "pygments_lexer": "ipython3",
   "version": "3.9.13"
  }
 },
 "nbformat": 4,
 "nbformat_minor": 5
}
