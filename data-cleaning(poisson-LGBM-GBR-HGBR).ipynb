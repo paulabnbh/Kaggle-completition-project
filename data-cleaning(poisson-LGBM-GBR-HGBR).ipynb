{
 "cells": [
  {
   "cell_type": "code",
   "execution_count": 40,
   "id": "81132431",
   "metadata": {},
   "outputs": [],
   "source": [
    "import matplotlib.pyplot as plt\n",
    "import numpy as np\n",
    "import pandas as pd\n",
    "import seaborn as sns\n",
    "from lazypredict.Supervised import LazyRegressor \n",
    "from sklearn.preprocessing import LabelEncoder\n",
    "from sklearn.model_selection import train_test_split as tts\n",
    "from sklearn.linear_model import PoissonRegressor\n",
    "from lightgbm import LGBMRegressor\n",
    "from sklearn.ensemble import GradientBoostingRegressor\n",
    "from sklearn.ensemble import HistGradientBoostingRegressor\n",
    "import warnings\n",
    "warnings.filterwarnings('ignore')"
   ]
  },
  {
   "cell_type": "code",
   "execution_count": 2,
   "id": "f3924c3e",
   "metadata": {},
   "outputs": [],
   "source": [
    "salarios =  pd.read_csv('data/salaries_data.csv')\n",
    "testeo =  pd.read_csv('data/testeo.csv')\n",
    "muestra = pd.read_csv('data/muestra.csv')"
   ]
  },
  {
   "cell_type": "code",
   "execution_count": 3,
   "id": "bd33c3bf",
   "metadata": {},
   "outputs": [
    {
     "data": {
      "text/plain": [
       "(500, 11)"
      ]
     },
     "execution_count": 3,
     "metadata": {},
     "output_type": "execute_result"
    }
   ],
   "source": [
    "salarios.shape"
   ]
  },
  {
   "cell_type": "code",
   "execution_count": 4,
   "id": "ba80d983",
   "metadata": {},
   "outputs": [
    {
     "data": {
      "text/plain": [
       "(107, 8)"
      ]
     },
     "execution_count": 4,
     "metadata": {},
     "output_type": "execute_result"
    }
   ],
   "source": [
    "testeo.shape"
   ]
  },
  {
   "cell_type": "code",
   "execution_count": 5,
   "id": "f63a3fd4",
   "metadata": {},
   "outputs": [],
   "source": [
    "salaries = salarios.salary_in_usd"
   ]
  },
  {
   "cell_type": "code",
   "execution_count": 6,
   "id": "ee5a4f9f",
   "metadata": {},
   "outputs": [],
   "source": [
    "salarios.drop(columns = ['salary', 'salary_currency', 'salary_in_usd'], inplace = True)"
   ]
  },
  {
   "cell_type": "code",
   "execution_count": 7,
   "id": "2983a48f",
   "metadata": {
    "scrolled": true
   },
   "outputs": [
    {
     "name": "stdout",
     "output_type": "stream",
     "text": [
      "<class 'pandas.core.frame.DataFrame'>\n",
      "RangeIndex: 500 entries, 0 to 499\n",
      "Data columns (total 8 columns):\n",
      " #   Column              Non-Null Count  Dtype \n",
      "---  ------              --------------  ----- \n",
      " 0   work_year           500 non-null    int64 \n",
      " 1   experience_level    500 non-null    object\n",
      " 2   employment_type     500 non-null    object\n",
      " 3   job_title           500 non-null    object\n",
      " 4   employee_residence  500 non-null    object\n",
      " 5   remote_ratio        500 non-null    int64 \n",
      " 6   company_location    500 non-null    object\n",
      " 7   company_size        500 non-null    object\n",
      "dtypes: int64(2), object(6)\n",
      "memory usage: 31.4+ KB\n",
      "<class 'pandas.core.frame.DataFrame'>\n",
      "RangeIndex: 107 entries, 0 to 106\n",
      "Data columns (total 8 columns):\n",
      " #   Column              Non-Null Count  Dtype \n",
      "---  ------              --------------  ----- \n",
      " 0   work_year           107 non-null    int64 \n",
      " 1   experience_level    107 non-null    object\n",
      " 2   employment_type     107 non-null    object\n",
      " 3   job_title           107 non-null    object\n",
      " 4   employee_residence  107 non-null    object\n",
      " 5   remote_ratio        107 non-null    int64 \n",
      " 6   company_location    107 non-null    object\n",
      " 7   company_size        107 non-null    object\n",
      "dtypes: int64(2), object(6)\n",
      "memory usage: 6.8+ KB\n"
     ]
    },
    {
     "data": {
      "text/plain": [
       "(None, None)"
      ]
     },
     "execution_count": 7,
     "metadata": {},
     "output_type": "execute_result"
    }
   ],
   "source": [
    "salarios.info(), testeo.info()"
   ]
  },
  {
   "cell_type": "code",
   "execution_count": 8,
   "id": "ce0e1a7b",
   "metadata": {},
   "outputs": [],
   "source": [
    "concat = pd.concat([salarios, testeo])"
   ]
  },
  {
   "cell_type": "code",
   "execution_count": 9,
   "id": "b0777648",
   "metadata": {},
   "outputs": [
    {
     "data": {
      "text/plain": [
       "SE    280\n",
       "MI    213\n",
       "EN     88\n",
       "EX     26\n",
       "Name: experience_level, dtype: int64"
      ]
     },
     "execution_count": 9,
     "metadata": {},
     "output_type": "execute_result"
    }
   ],
   "source": [
    "concat.experience_level.value_counts()"
   ]
  },
  {
   "cell_type": "markdown",
   "id": "c67bded6",
   "metadata": {},
   "source": [
    "Siginifcado de cada variable y número asignado a cada una:\n",
    "\n",
    "+ EN: entry level -> 1\n",
    "+ MI: mid - senior -> 2\n",
    "+ SE: senior -> 3\n",
    "+ EX: executive -> 4"
   ]
  },
  {
   "cell_type": "code",
   "execution_count": 10,
   "id": "01ecc6da",
   "metadata": {},
   "outputs": [],
   "source": [
    "exp_level = {'EN': 1, 'MI': 2, 'SE': 3, 'EX': 4}\n",
    "experience_level = []\n",
    "for e in concat.experience_level:\n",
    "    if e in exp_level:\n",
    "        experience_level.append(exp_level[e])"
   ]
  },
  {
   "cell_type": "code",
   "execution_count": 11,
   "id": "6a2ff89b",
   "metadata": {},
   "outputs": [],
   "source": [
    "concat['experience_level'] = experience_level"
   ]
  },
  {
   "cell_type": "code",
   "execution_count": 12,
   "id": "b09f0891",
   "metadata": {},
   "outputs": [
    {
     "data": {
      "text/plain": [
       "FT    588\n",
       "PT     10\n",
       "CT      5\n",
       "FL      4\n",
       "Name: employment_type, dtype: int64"
      ]
     },
     "execution_count": 12,
     "metadata": {},
     "output_type": "execute_result"
    }
   ],
   "source": [
    "concat.employment_type.value_counts()"
   ]
  },
  {
   "cell_type": "markdown",
   "id": "bfc2772a",
   "metadata": {},
   "source": [
    "Siginifcado de cada variable y número asignado a cada una:\n",
    "\n",
    "+ FT: full-time -> 4\n",
    "+ PT: part-time -> 3\n",
    "+ CT: contract -> 2\n",
    "+ FL: freelance -> 1"
   ]
  },
  {
   "cell_type": "code",
   "execution_count": 13,
   "id": "c5af96c7",
   "metadata": {},
   "outputs": [],
   "source": [
    "emp_type = {'FL': 1, 'CT': 2, 'PT': 3, 'FT': 4}\n",
    "employment_type = []\n",
    "for e in concat.employment_type:\n",
    "    if e in emp_type:\n",
    "        employment_type.append(emp_type[e])"
   ]
  },
  {
   "cell_type": "code",
   "execution_count": 14,
   "id": "a691d5e3",
   "metadata": {},
   "outputs": [],
   "source": [
    "concat['employment_type'] = employment_type"
   ]
  },
  {
   "cell_type": "code",
   "execution_count": 15,
   "id": "12140c22",
   "metadata": {},
   "outputs": [
    {
     "data": {
      "text/html": [
       "<div>\n",
       "<style scoped>\n",
       "    .dataframe tbody tr th:only-of-type {\n",
       "        vertical-align: middle;\n",
       "    }\n",
       "\n",
       "    .dataframe tbody tr th {\n",
       "        vertical-align: top;\n",
       "    }\n",
       "\n",
       "    .dataframe thead th {\n",
       "        text-align: right;\n",
       "    }\n",
       "</style>\n",
       "<table border=\"1\" class=\"dataframe\">\n",
       "  <thead>\n",
       "    <tr style=\"text-align: right;\">\n",
       "      <th></th>\n",
       "      <th>work_year</th>\n",
       "      <th>experience_level</th>\n",
       "      <th>employment_type</th>\n",
       "      <th>job_title</th>\n",
       "      <th>employee_residence</th>\n",
       "      <th>remote_ratio</th>\n",
       "      <th>company_location</th>\n",
       "      <th>company_size</th>\n",
       "    </tr>\n",
       "  </thead>\n",
       "  <tbody>\n",
       "    <tr>\n",
       "      <th>0</th>\n",
       "      <td>2022</td>\n",
       "      <td>3</td>\n",
       "      <td>4</td>\n",
       "      <td>Data Engineer</td>\n",
       "      <td>US</td>\n",
       "      <td>100</td>\n",
       "      <td>US</td>\n",
       "      <td>M</td>\n",
       "    </tr>\n",
       "    <tr>\n",
       "      <th>1</th>\n",
       "      <td>2022</td>\n",
       "      <td>3</td>\n",
       "      <td>4</td>\n",
       "      <td>Data Engineer</td>\n",
       "      <td>US</td>\n",
       "      <td>100</td>\n",
       "      <td>US</td>\n",
       "      <td>M</td>\n",
       "    </tr>\n",
       "    <tr>\n",
       "      <th>2</th>\n",
       "      <td>2021</td>\n",
       "      <td>2</td>\n",
       "      <td>4</td>\n",
       "      <td>BI Data Analyst</td>\n",
       "      <td>US</td>\n",
       "      <td>100</td>\n",
       "      <td>US</td>\n",
       "      <td>M</td>\n",
       "    </tr>\n",
       "    <tr>\n",
       "      <th>3</th>\n",
       "      <td>2021</td>\n",
       "      <td>2</td>\n",
       "      <td>2</td>\n",
       "      <td>ML Engineer</td>\n",
       "      <td>US</td>\n",
       "      <td>100</td>\n",
       "      <td>US</td>\n",
       "      <td>L</td>\n",
       "    </tr>\n",
       "    <tr>\n",
       "      <th>4</th>\n",
       "      <td>2021</td>\n",
       "      <td>2</td>\n",
       "      <td>4</td>\n",
       "      <td>Data Engineer</td>\n",
       "      <td>RO</td>\n",
       "      <td>0</td>\n",
       "      <td>US</td>\n",
       "      <td>L</td>\n",
       "    </tr>\n",
       "  </tbody>\n",
       "</table>\n",
       "</div>"
      ],
      "text/plain": [
       "   work_year  experience_level  employment_type        job_title  \\\n",
       "0       2022                 3                4    Data Engineer   \n",
       "1       2022                 3                4    Data Engineer   \n",
       "2       2021                 2                4  BI Data Analyst   \n",
       "3       2021                 2                2      ML Engineer   \n",
       "4       2021                 2                4    Data Engineer   \n",
       "\n",
       "  employee_residence  remote_ratio company_location company_size  \n",
       "0                 US           100               US            M  \n",
       "1                 US           100               US            M  \n",
       "2                 US           100               US            M  \n",
       "3                 US           100               US            L  \n",
       "4                 RO             0               US            L  "
      ]
     },
     "execution_count": 15,
     "metadata": {},
     "output_type": "execute_result"
    }
   ],
   "source": [
    "concat.head()"
   ]
  },
  {
   "cell_type": "code",
   "execution_count": 16,
   "id": "45956c94",
   "metadata": {},
   "outputs": [
    {
     "data": {
      "text/plain": [
       "(607, 8)"
      ]
     },
     "execution_count": 16,
     "metadata": {},
     "output_type": "execute_result"
    }
   ],
   "source": [
    "concat.shape"
   ]
  },
  {
   "cell_type": "code",
   "execution_count": 17,
   "id": "ff12c0f7",
   "metadata": {},
   "outputs": [],
   "source": [
    "le = LabelEncoder()\n",
    "concat['company_location'] = le.fit_transform(concat.company_location)\n",
    "concat['job_title'] = le.fit_transform(concat.job_title)"
   ]
  },
  {
   "cell_type": "code",
   "execution_count": 18,
   "id": "1e9ec202",
   "metadata": {},
   "outputs": [],
   "source": [
    "comp_size = {'L': 3, 'M': 2, 'S': 1}\n",
    "company_size = []\n",
    "for e in concat.company_size:\n",
    "    if e in comp_size:\n",
    "        company_size.append(comp_size[e])\n",
    "\n",
    "concat['company_size'] = company_size"
   ]
  },
  {
   "cell_type": "code",
   "execution_count": 19,
   "id": "b93fe2e1",
   "metadata": {},
   "outputs": [],
   "source": [
    "concat.drop(columns = ['employee_residence'], inplace = True)"
   ]
  },
  {
   "cell_type": "code",
   "execution_count": 20,
   "id": "1a69ab48",
   "metadata": {},
   "outputs": [],
   "source": [
    "sal = concat.iloc[:500, :]\n",
    "test = concat.iloc[500:, :]"
   ]
  },
  {
   "cell_type": "code",
   "execution_count": 21,
   "id": "7f23df9d",
   "metadata": {},
   "outputs": [],
   "source": [
    "sal['salaries'] = salaries"
   ]
  },
  {
   "cell_type": "markdown",
   "id": "fe69100f",
   "metadata": {},
   "source": [
    "### Utilizamos LazyRegressor() para saber cuál es el modelo de Machine Learning que mejor nos puede funcionar a la hora de predecir los salarios"
   ]
  },
  {
   "cell_type": "code",
   "execution_count": 35,
   "id": "8c9541c1",
   "metadata": {},
   "outputs": [],
   "source": [
    "X = sal.drop(columns = ['salaries'])\n",
    "\n",
    "y = sal.salaries"
   ]
  },
  {
   "cell_type": "code",
   "execution_count": 36,
   "id": "a9e54e90",
   "metadata": {},
   "outputs": [],
   "source": [
    "X_train, X_test, y_train, y_test = tts(X, y, train_size = 0.8)"
   ]
  },
  {
   "cell_type": "code",
   "execution_count": 37,
   "id": "562994eb",
   "metadata": {},
   "outputs": [],
   "source": [
    "lazy=LazyRegressor()"
   ]
  },
  {
   "cell_type": "code",
   "execution_count": 39,
   "id": "8af0416d",
   "metadata": {},
   "outputs": [
    {
     "name": "stdout",
     "output_type": "stream",
     "text": [
      "'tuple' object has no attribute '__name__'\n",
      "Invalid Regressor(s)\n"
     ]
    },
    {
     "name": "stderr",
     "output_type": "stream",
     "text": [
      "100%|██████████████████████████████████████████████████████████████████████████████████| 42/42 [00:03<00:00, 11.61it/s]\n"
     ]
    },
    {
     "data": {
      "text/plain": [
       "(                               Adjusted R-Squared  R-Squared       RMSE  \\\n",
       " Model                                                                     \n",
       " HistGradientBoostingRegressor                0.55       0.58   44272.08   \n",
       " LGBMRegressor                                0.53       0.57   44999.59   \n",
       " GradientBoostingRegressor                    0.45       0.49   48896.20   \n",
       " RandomForestRegressor                        0.44       0.48   49484.27   \n",
       " BaggingRegressor                             0.41       0.45   50807.02   \n",
       " PoissonRegressor                             0.39       0.44   51348.77   \n",
       " SGDRegressor                                 0.38       0.42   52113.33   \n",
       " LassoLars                                    0.38       0.42   52118.47   \n",
       " Lasso                                        0.38       0.42   52118.51   \n",
       " Lars                                         0.38       0.42   52118.52   \n",
       " TransformedTargetRegressor                   0.38       0.42   52118.52   \n",
       " LinearRegression                             0.38       0.42   52118.52   \n",
       " Ridge                                        0.38       0.42   52121.44   \n",
       " LassoLarsIC                                  0.38       0.42   52122.26   \n",
       " RidgeCV                                      0.37       0.42   52154.36   \n",
       " BayesianRidge                                0.37       0.42   52178.13   \n",
       " KNeighborsRegressor                          0.37       0.42   52277.67   \n",
       " HuberRegressor                               0.37       0.41   52537.65   \n",
       " LassoLarsCV                                  0.36       0.41   52560.77   \n",
       " LarsCV                                       0.36       0.41   52560.77   \n",
       " PassiveAggressiveRegressor                   0.36       0.41   52724.49   \n",
       " XGBRegressor                                 0.34       0.39   53470.80   \n",
       " LassoCV                                      0.34       0.39   53601.53   \n",
       " ExtraTreesRegressor                          0.33       0.38   53931.66   \n",
       " ElasticNet                                   0.33       0.38   54017.73   \n",
       " OrthogonalMatchingPursuitCV                  0.31       0.36   54849.39   \n",
       " AdaBoostRegressor                            0.30       0.35   55256.14   \n",
       " DecisionTreeRegressor                        0.30       0.35   55256.89   \n",
       " RANSACRegressor                              0.29       0.34   55453.30   \n",
       " GammaRegressor                               0.28       0.33   55930.53   \n",
       " TweedieRegressor                             0.27       0.33   56149.73   \n",
       " OrthogonalMatchingPursuit                    0.21       0.27   58484.43   \n",
       " ElasticNetCV                                -0.04       0.03   67348.74   \n",
       " DummyRegressor                              -0.08      -0.00   68411.23   \n",
       " NuSVR                                       -0.09      -0.01   68817.40   \n",
       " QuantileRegressor                           -0.12      -0.04   69664.12   \n",
       " SVR                                         -0.12      -0.04   69720.20   \n",
       " ExtraTreeRegressor                          -0.15      -0.07   70720.37   \n",
       " KernelRidge                                 -2.45      -2.21  122533.52   \n",
       " LinearSVR                                   -3.04      -2.76  132582.35   \n",
       " MLPRegressor                                -3.06      -2.77  132880.02   \n",
       " GaussianProcessRegressor                 -2327.08   -2162.46 3181505.69   \n",
       " \n",
       "                                Time Taken  \n",
       " Model                                      \n",
       " HistGradientBoostingRegressor        0.31  \n",
       " LGBMRegressor                        0.07  \n",
       " GradientBoostingRegressor            0.06  \n",
       " RandomForestRegressor                0.20  \n",
       " BaggingRegressor                     0.04  \n",
       " PoissonRegressor                     0.01  \n",
       " SGDRegressor                         0.02  \n",
       " LassoLars                            0.02  \n",
       " Lasso                                0.01  \n",
       " Lars                                 0.02  \n",
       " TransformedTargetRegressor           0.01  \n",
       " LinearRegression                     0.01  \n",
       " Ridge                                0.01  \n",
       " LassoLarsIC                          0.01  \n",
       " RidgeCV                              0.01  \n",
       " BayesianRidge                        0.01  \n",
       " KNeighborsRegressor                  0.01  \n",
       " HuberRegressor                       0.02  \n",
       " LassoLarsCV                          0.03  \n",
       " LarsCV                               0.03  \n",
       " PassiveAggressiveRegressor           0.03  \n",
       " XGBRegressor                         0.10  \n",
       " LassoCV                              0.08  \n",
       " ExtraTreesRegressor                  0.18  \n",
       " ElasticNet                           0.01  \n",
       " OrthogonalMatchingPursuitCV          0.01  \n",
       " AdaBoostRegressor                    0.05  \n",
       " DecisionTreeRegressor                0.01  \n",
       " RANSACRegressor                      0.07  \n",
       " GammaRegressor                       0.01  \n",
       " TweedieRegressor                     0.01  \n",
       " OrthogonalMatchingPursuit            0.01  \n",
       " ElasticNetCV                         0.08  \n",
       " DummyRegressor                       0.01  \n",
       " NuSVR                                0.04  \n",
       " QuantileRegressor                    1.39  \n",
       " SVR                                  0.04  \n",
       " ExtraTreeRegressor                   0.01  \n",
       " KernelRidge                          0.02  \n",
       " LinearSVR                            0.01  \n",
       " MLPRegressor                         0.48  \n",
       " GaussianProcessRegressor             0.02  ,\n",
       "                                Adjusted R-Squared  R-Squared       RMSE  \\\n",
       " Model                                                                     \n",
       " HistGradientBoostingRegressor                0.55       0.58   44272.08   \n",
       " LGBMRegressor                                0.53       0.57   44999.59   \n",
       " GradientBoostingRegressor                    0.45       0.49   48896.20   \n",
       " RandomForestRegressor                        0.44       0.48   49484.27   \n",
       " BaggingRegressor                             0.41       0.45   50807.02   \n",
       " PoissonRegressor                             0.39       0.44   51348.77   \n",
       " SGDRegressor                                 0.38       0.42   52113.33   \n",
       " LassoLars                                    0.38       0.42   52118.47   \n",
       " Lasso                                        0.38       0.42   52118.51   \n",
       " Lars                                         0.38       0.42   52118.52   \n",
       " TransformedTargetRegressor                   0.38       0.42   52118.52   \n",
       " LinearRegression                             0.38       0.42   52118.52   \n",
       " Ridge                                        0.38       0.42   52121.44   \n",
       " LassoLarsIC                                  0.38       0.42   52122.26   \n",
       " RidgeCV                                      0.37       0.42   52154.36   \n",
       " BayesianRidge                                0.37       0.42   52178.13   \n",
       " KNeighborsRegressor                          0.37       0.42   52277.67   \n",
       " HuberRegressor                               0.37       0.41   52537.65   \n",
       " LassoLarsCV                                  0.36       0.41   52560.77   \n",
       " LarsCV                                       0.36       0.41   52560.77   \n",
       " PassiveAggressiveRegressor                   0.36       0.41   52724.49   \n",
       " XGBRegressor                                 0.34       0.39   53470.80   \n",
       " LassoCV                                      0.34       0.39   53601.53   \n",
       " ExtraTreesRegressor                          0.33       0.38   53931.66   \n",
       " ElasticNet                                   0.33       0.38   54017.73   \n",
       " OrthogonalMatchingPursuitCV                  0.31       0.36   54849.39   \n",
       " AdaBoostRegressor                            0.30       0.35   55256.14   \n",
       " DecisionTreeRegressor                        0.30       0.35   55256.89   \n",
       " RANSACRegressor                              0.29       0.34   55453.30   \n",
       " GammaRegressor                               0.28       0.33   55930.53   \n",
       " TweedieRegressor                             0.27       0.33   56149.73   \n",
       " OrthogonalMatchingPursuit                    0.21       0.27   58484.43   \n",
       " ElasticNetCV                                -0.04       0.03   67348.74   \n",
       " DummyRegressor                              -0.08      -0.00   68411.23   \n",
       " NuSVR                                       -0.09      -0.01   68817.40   \n",
       " QuantileRegressor                           -0.12      -0.04   69664.12   \n",
       " SVR                                         -0.12      -0.04   69720.20   \n",
       " ExtraTreeRegressor                          -0.15      -0.07   70720.37   \n",
       " KernelRidge                                 -2.45      -2.21  122533.52   \n",
       " LinearSVR                                   -3.04      -2.76  132582.35   \n",
       " MLPRegressor                                -3.06      -2.77  132880.02   \n",
       " GaussianProcessRegressor                 -2327.08   -2162.46 3181505.69   \n",
       " \n",
       "                                Time Taken  \n",
       " Model                                      \n",
       " HistGradientBoostingRegressor        0.31  \n",
       " LGBMRegressor                        0.07  \n",
       " GradientBoostingRegressor            0.06  \n",
       " RandomForestRegressor                0.20  \n",
       " BaggingRegressor                     0.04  \n",
       " PoissonRegressor                     0.01  \n",
       " SGDRegressor                         0.02  \n",
       " LassoLars                            0.02  \n",
       " Lasso                                0.01  \n",
       " Lars                                 0.02  \n",
       " TransformedTargetRegressor           0.01  \n",
       " LinearRegression                     0.01  \n",
       " Ridge                                0.01  \n",
       " LassoLarsIC                          0.01  \n",
       " RidgeCV                              0.01  \n",
       " BayesianRidge                        0.01  \n",
       " KNeighborsRegressor                  0.01  \n",
       " HuberRegressor                       0.02  \n",
       " LassoLarsCV                          0.03  \n",
       " LarsCV                               0.03  \n",
       " PassiveAggressiveRegressor           0.03  \n",
       " XGBRegressor                         0.10  \n",
       " LassoCV                              0.08  \n",
       " ExtraTreesRegressor                  0.18  \n",
       " ElasticNet                           0.01  \n",
       " OrthogonalMatchingPursuitCV          0.01  \n",
       " AdaBoostRegressor                    0.05  \n",
       " DecisionTreeRegressor                0.01  \n",
       " RANSACRegressor                      0.07  \n",
       " GammaRegressor                       0.01  \n",
       " TweedieRegressor                     0.01  \n",
       " OrthogonalMatchingPursuit            0.01  \n",
       " ElasticNetCV                         0.08  \n",
       " DummyRegressor                       0.01  \n",
       " NuSVR                                0.04  \n",
       " QuantileRegressor                    1.39  \n",
       " SVR                                  0.04  \n",
       " ExtraTreeRegressor                   0.01  \n",
       " KernelRidge                          0.02  \n",
       " LinearSVR                            0.01  \n",
       " MLPRegressor                         0.48  \n",
       " GaussianProcessRegressor             0.02  )"
      ]
     },
     "execution_count": 39,
     "metadata": {},
     "output_type": "execute_result"
    }
   ],
   "source": [
    "lazy.fit(X_train, X_test, y_train, y_test)"
   ]
  },
  {
   "cell_type": "code",
   "execution_count": 40,
   "id": "337a59c8",
   "metadata": {},
   "outputs": [],
   "source": [
    "PR = PoissonRegressor()"
   ]
  },
  {
   "cell_type": "code",
   "execution_count": 30,
   "id": "e9ebc9cd",
   "metadata": {},
   "outputs": [
    {
     "data": {
      "text/plain": [
       "PoissonRegressor()"
      ]
     },
     "execution_count": 30,
     "metadata": {},
     "output_type": "execute_result"
    }
   ],
   "source": [
    "PR.fit(X, y)"
   ]
  },
  {
   "cell_type": "code",
   "execution_count": 31,
   "id": "e3b5b7d0",
   "metadata": {},
   "outputs": [],
   "source": [
    "pred = PR.predict(test)"
   ]
  },
  {
   "cell_type": "code",
   "execution_count": 33,
   "id": "ddfe7a02",
   "metadata": {},
   "outputs": [],
   "source": [
    "muestra['salary_in_usd'] = pred"
   ]
  },
  {
   "cell_type": "code",
   "execution_count": 35,
   "id": "23475db2",
   "metadata": {},
   "outputs": [],
   "source": [
    "muestra.to_csv('prediction_models/muestra(Poisson).csv', index = False)"
   ]
  },
  {
   "cell_type": "code",
   "execution_count": 45,
   "id": "45e0f57b",
   "metadata": {},
   "outputs": [],
   "source": [
    "LGBM = LGBMRegressor()"
   ]
  },
  {
   "cell_type": "code",
   "execution_count": 46,
   "id": "3e6f3ef4",
   "metadata": {},
   "outputs": [
    {
     "data": {
      "text/plain": [
       "LGBMRegressor()"
      ]
     },
     "execution_count": 46,
     "metadata": {},
     "output_type": "execute_result"
    }
   ],
   "source": [
    "LGBM.fit(X, y)"
   ]
  },
  {
   "cell_type": "code",
   "execution_count": 47,
   "id": "af8e800e",
   "metadata": {},
   "outputs": [],
   "source": [
    "pred2 = LGBM.predict(test)"
   ]
  },
  {
   "cell_type": "code",
   "execution_count": 48,
   "id": "9c09a743",
   "metadata": {},
   "outputs": [],
   "source": [
    "muestra['salary_in_usd'] = pred2"
   ]
  },
  {
   "cell_type": "code",
   "execution_count": 49,
   "id": "07018830",
   "metadata": {},
   "outputs": [],
   "source": [
    "muestra.to_csv('prediction_models/muestra(LGBM).csv', index = False)"
   ]
  },
  {
   "cell_type": "code",
   "execution_count": 29,
   "id": "4b2f1459",
   "metadata": {},
   "outputs": [],
   "source": [
    "GBR = GradientBoostingRegressor()"
   ]
  },
  {
   "cell_type": "code",
   "execution_count": 30,
   "id": "747bf00d",
   "metadata": {},
   "outputs": [
    {
     "data": {
      "text/plain": [
       "GradientBoostingRegressor()"
      ]
     },
     "execution_count": 30,
     "metadata": {},
     "output_type": "execute_result"
    }
   ],
   "source": [
    "GBR.fit(X,y)"
   ]
  },
  {
   "cell_type": "code",
   "execution_count": 32,
   "id": "3920d43e",
   "metadata": {},
   "outputs": [],
   "source": [
    "pred3 = GBR.predict(test)"
   ]
  },
  {
   "cell_type": "code",
   "execution_count": 33,
   "id": "5089d1f4",
   "metadata": {},
   "outputs": [],
   "source": [
    "muestra['salary_in_usd'] = pred3"
   ]
  },
  {
   "cell_type": "code",
   "execution_count": 47,
   "id": "2e785665",
   "metadata": {},
   "outputs": [],
   "source": [
    "muestra.to_csv('prediction_models/muestra(GBR2).csv', index = False)"
   ]
  },
  {
   "cell_type": "code",
   "execution_count": 41,
   "id": "0ff596ce",
   "metadata": {},
   "outputs": [],
   "source": [
    "HGBR = HistGradientBoostingRegressor()"
   ]
  },
  {
   "cell_type": "code",
   "execution_count": 42,
   "id": "9825c212",
   "metadata": {},
   "outputs": [
    {
     "data": {
      "text/plain": [
       "HistGradientBoostingRegressor()"
      ]
     },
     "execution_count": 42,
     "metadata": {},
     "output_type": "execute_result"
    }
   ],
   "source": [
    "HGBR.fit(X,y)"
   ]
  },
  {
   "cell_type": "code",
   "execution_count": 44,
   "id": "c34dcd90",
   "metadata": {},
   "outputs": [],
   "source": [
    "pred4 = HGBR.predict(test)"
   ]
  },
  {
   "cell_type": "code",
   "execution_count": 45,
   "id": "6ce4744a",
   "metadata": {},
   "outputs": [],
   "source": [
    "muestra['salary_in_usd'] = pred4"
   ]
  },
  {
   "cell_type": "code",
   "execution_count": 48,
   "id": "6a6d68e7",
   "metadata": {},
   "outputs": [],
   "source": [
    "muestra.to_csv('prediction_models/muestra(HGBR).csv', index = False)"
   ]
  },
  {
   "cell_type": "code",
   "execution_count": null,
   "id": "8e3d918d",
   "metadata": {},
   "outputs": [],
   "source": []
  }
 ],
 "metadata": {
  "kernelspec": {
   "display_name": "Python 3 (ipykernel)",
   "language": "python",
   "name": "python3"
  },
  "language_info": {
   "codemirror_mode": {
    "name": "ipython",
    "version": 3
   },
   "file_extension": ".py",
   "mimetype": "text/x-python",
   "name": "python",
   "nbconvert_exporter": "python",
   "pygments_lexer": "ipython3",
   "version": "3.9.13"
  }
 },
 "nbformat": 4,
 "nbformat_minor": 5
}
