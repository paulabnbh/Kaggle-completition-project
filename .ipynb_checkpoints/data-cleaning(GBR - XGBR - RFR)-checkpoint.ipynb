{
 "cells": [
  {
   "cell_type": "code",
   "execution_count": 1,
   "id": "81132431",
   "metadata": {},
   "outputs": [],
   "source": [
    "import matplotlib.pyplot as plt\n",
    "import numpy as np\n",
    "import pandas as pd\n",
    "import seaborn as sns\n",
    "from lazypredict.Supervised import LazyRegressor \n",
    "from sklearn.preprocessing import LabelEncoder\n",
    "from sklearn.model_selection import train_test_split as tts\n",
    "from sklearn.ensemble import GradientBoostingRegressor\n",
    "from xgboost import XGBRegressor\n",
    "from sklearn.ensemble import RandomForestRegressor\n",
    "import warnings\n",
    "warnings.filterwarnings('ignore')"
   ]
  },
  {
   "cell_type": "code",
   "execution_count": 2,
   "id": "f3924c3e",
   "metadata": {},
   "outputs": [],
   "source": [
    "salarios =  pd.read_csv('data/salaries_data.csv')\n",
    "testeo =  pd.read_csv('data/testeo.csv')\n",
    "muestra = pd.read_csv('data/muestra.csv')"
   ]
  },
  {
   "cell_type": "code",
   "execution_count": 3,
   "id": "bd33c3bf",
   "metadata": {},
   "outputs": [
    {
     "data": {
      "text/plain": [
       "(500, 11)"
      ]
     },
     "execution_count": 3,
     "metadata": {},
     "output_type": "execute_result"
    }
   ],
   "source": [
    "salarios.shape"
   ]
  },
  {
   "cell_type": "code",
   "execution_count": 4,
   "id": "ba80d983",
   "metadata": {},
   "outputs": [
    {
     "data": {
      "text/plain": [
       "(107, 8)"
      ]
     },
     "execution_count": 4,
     "metadata": {},
     "output_type": "execute_result"
    }
   ],
   "source": [
    "testeo.shape"
   ]
  },
  {
   "cell_type": "code",
   "execution_count": 5,
   "id": "f63a3fd4",
   "metadata": {},
   "outputs": [],
   "source": [
    "salaries = salarios.salary_in_usd"
   ]
  },
  {
   "cell_type": "code",
   "execution_count": 6,
   "id": "ee5a4f9f",
   "metadata": {},
   "outputs": [],
   "source": [
    "salarios.drop(columns = ['salary', 'salary_currency', 'salary_in_usd'], inplace = True)"
   ]
  },
  {
   "cell_type": "code",
   "execution_count": 7,
   "id": "2983a48f",
   "metadata": {
    "scrolled": true
   },
   "outputs": [
    {
     "name": "stdout",
     "output_type": "stream",
     "text": [
      "<class 'pandas.core.frame.DataFrame'>\n",
      "RangeIndex: 500 entries, 0 to 499\n",
      "Data columns (total 8 columns):\n",
      " #   Column              Non-Null Count  Dtype \n",
      "---  ------              --------------  ----- \n",
      " 0   work_year           500 non-null    int64 \n",
      " 1   experience_level    500 non-null    object\n",
      " 2   employment_type     500 non-null    object\n",
      " 3   job_title           500 non-null    object\n",
      " 4   employee_residence  500 non-null    object\n",
      " 5   remote_ratio        500 non-null    int64 \n",
      " 6   company_location    500 non-null    object\n",
      " 7   company_size        500 non-null    object\n",
      "dtypes: int64(2), object(6)\n",
      "memory usage: 31.4+ KB\n",
      "<class 'pandas.core.frame.DataFrame'>\n",
      "RangeIndex: 107 entries, 0 to 106\n",
      "Data columns (total 8 columns):\n",
      " #   Column              Non-Null Count  Dtype \n",
      "---  ------              --------------  ----- \n",
      " 0   work_year           107 non-null    int64 \n",
      " 1   experience_level    107 non-null    object\n",
      " 2   employment_type     107 non-null    object\n",
      " 3   job_title           107 non-null    object\n",
      " 4   employee_residence  107 non-null    object\n",
      " 5   remote_ratio        107 non-null    int64 \n",
      " 6   company_location    107 non-null    object\n",
      " 7   company_size        107 non-null    object\n",
      "dtypes: int64(2), object(6)\n",
      "memory usage: 6.8+ KB\n"
     ]
    },
    {
     "data": {
      "text/plain": [
       "(None, None)"
      ]
     },
     "execution_count": 7,
     "metadata": {},
     "output_type": "execute_result"
    }
   ],
   "source": [
    "salarios.info(), testeo.info()"
   ]
  },
  {
   "cell_type": "code",
   "execution_count": 8,
   "id": "ce0e1a7b",
   "metadata": {},
   "outputs": [],
   "source": [
    "concat = pd.concat([salarios, testeo])"
   ]
  },
  {
   "cell_type": "code",
   "execution_count": 9,
   "id": "b0777648",
   "metadata": {},
   "outputs": [
    {
     "data": {
      "text/plain": [
       "SE    280\n",
       "MI    213\n",
       "EN     88\n",
       "EX     26\n",
       "Name: experience_level, dtype: int64"
      ]
     },
     "execution_count": 9,
     "metadata": {},
     "output_type": "execute_result"
    }
   ],
   "source": [
    "concat.experience_level.value_counts()"
   ]
  },
  {
   "cell_type": "markdown",
   "id": "c67bded6",
   "metadata": {},
   "source": [
    "Siginifcado de cada variable y número asignado a cada una:\n",
    "\n",
    "+ EN: entry level -> 1\n",
    "+ MI: mid - senior -> 2\n",
    "+ SE: senior -> 3\n",
    "+ EX: executive -> 4"
   ]
  },
  {
   "cell_type": "code",
   "execution_count": 10,
   "id": "01ecc6da",
   "metadata": {},
   "outputs": [],
   "source": [
    "exp_level = {'EN': 1, 'MI': 2, 'SE': 3, 'EX': 4}\n",
    "experience_level = []\n",
    "for e in concat.experience_level:\n",
    "    if e in exp_level:\n",
    "        experience_level.append(exp_level[e])"
   ]
  },
  {
   "cell_type": "code",
   "execution_count": 11,
   "id": "6a2ff89b",
   "metadata": {},
   "outputs": [],
   "source": [
    "concat['experience_level'] = experience_level"
   ]
  },
  {
   "cell_type": "code",
   "execution_count": 12,
   "id": "b09f0891",
   "metadata": {},
   "outputs": [
    {
     "data": {
      "text/plain": [
       "FT    588\n",
       "PT     10\n",
       "CT      5\n",
       "FL      4\n",
       "Name: employment_type, dtype: int64"
      ]
     },
     "execution_count": 12,
     "metadata": {},
     "output_type": "execute_result"
    }
   ],
   "source": [
    "concat.employment_type.value_counts()"
   ]
  },
  {
   "cell_type": "markdown",
   "id": "bfc2772a",
   "metadata": {},
   "source": [
    "Siginifcado de cada variable y número asignado a cada una:\n",
    "\n",
    "+ FT: full-time -> 4\n",
    "+ PT: part-time -> 3\n",
    "+ CT: contract -> 2\n",
    "+ FL: freelance -> 1"
   ]
  },
  {
   "cell_type": "code",
   "execution_count": 13,
   "id": "c5af96c7",
   "metadata": {},
   "outputs": [],
   "source": [
    "emp_type = {'FL': 1, 'CT': 2, 'PT': 3, 'FT': 4}\n",
    "employment_type = []\n",
    "for e in concat.employment_type:\n",
    "    if e in emp_type:\n",
    "        employment_type.append(emp_type[e])"
   ]
  },
  {
   "cell_type": "code",
   "execution_count": 14,
   "id": "a691d5e3",
   "metadata": {},
   "outputs": [],
   "source": [
    "concat['employment_type'] = employment_type"
   ]
  },
  {
   "cell_type": "code",
   "execution_count": 15,
   "id": "12140c22",
   "metadata": {},
   "outputs": [
    {
     "data": {
      "text/html": [
       "<div>\n",
       "<style scoped>\n",
       "    .dataframe tbody tr th:only-of-type {\n",
       "        vertical-align: middle;\n",
       "    }\n",
       "\n",
       "    .dataframe tbody tr th {\n",
       "        vertical-align: top;\n",
       "    }\n",
       "\n",
       "    .dataframe thead th {\n",
       "        text-align: right;\n",
       "    }\n",
       "</style>\n",
       "<table border=\"1\" class=\"dataframe\">\n",
       "  <thead>\n",
       "    <tr style=\"text-align: right;\">\n",
       "      <th></th>\n",
       "      <th>work_year</th>\n",
       "      <th>experience_level</th>\n",
       "      <th>employment_type</th>\n",
       "      <th>job_title</th>\n",
       "      <th>employee_residence</th>\n",
       "      <th>remote_ratio</th>\n",
       "      <th>company_location</th>\n",
       "      <th>company_size</th>\n",
       "    </tr>\n",
       "  </thead>\n",
       "  <tbody>\n",
       "    <tr>\n",
       "      <th>0</th>\n",
       "      <td>2022</td>\n",
       "      <td>3</td>\n",
       "      <td>4</td>\n",
       "      <td>Data Engineer</td>\n",
       "      <td>US</td>\n",
       "      <td>100</td>\n",
       "      <td>US</td>\n",
       "      <td>M</td>\n",
       "    </tr>\n",
       "    <tr>\n",
       "      <th>1</th>\n",
       "      <td>2022</td>\n",
       "      <td>3</td>\n",
       "      <td>4</td>\n",
       "      <td>Data Engineer</td>\n",
       "      <td>US</td>\n",
       "      <td>100</td>\n",
       "      <td>US</td>\n",
       "      <td>M</td>\n",
       "    </tr>\n",
       "    <tr>\n",
       "      <th>2</th>\n",
       "      <td>2021</td>\n",
       "      <td>2</td>\n",
       "      <td>4</td>\n",
       "      <td>BI Data Analyst</td>\n",
       "      <td>US</td>\n",
       "      <td>100</td>\n",
       "      <td>US</td>\n",
       "      <td>M</td>\n",
       "    </tr>\n",
       "    <tr>\n",
       "      <th>3</th>\n",
       "      <td>2021</td>\n",
       "      <td>2</td>\n",
       "      <td>2</td>\n",
       "      <td>ML Engineer</td>\n",
       "      <td>US</td>\n",
       "      <td>100</td>\n",
       "      <td>US</td>\n",
       "      <td>L</td>\n",
       "    </tr>\n",
       "    <tr>\n",
       "      <th>4</th>\n",
       "      <td>2021</td>\n",
       "      <td>2</td>\n",
       "      <td>4</td>\n",
       "      <td>Data Engineer</td>\n",
       "      <td>RO</td>\n",
       "      <td>0</td>\n",
       "      <td>US</td>\n",
       "      <td>L</td>\n",
       "    </tr>\n",
       "  </tbody>\n",
       "</table>\n",
       "</div>"
      ],
      "text/plain": [
       "   work_year  experience_level  employment_type        job_title  \\\n",
       "0       2022                 3                4    Data Engineer   \n",
       "1       2022                 3                4    Data Engineer   \n",
       "2       2021                 2                4  BI Data Analyst   \n",
       "3       2021                 2                2      ML Engineer   \n",
       "4       2021                 2                4    Data Engineer   \n",
       "\n",
       "  employee_residence  remote_ratio company_location company_size  \n",
       "0                 US           100               US            M  \n",
       "1                 US           100               US            M  \n",
       "2                 US           100               US            M  \n",
       "3                 US           100               US            L  \n",
       "4                 RO             0               US            L  "
      ]
     },
     "execution_count": 15,
     "metadata": {},
     "output_type": "execute_result"
    }
   ],
   "source": [
    "concat.head()"
   ]
  },
  {
   "cell_type": "code",
   "execution_count": 16,
   "id": "45956c94",
   "metadata": {},
   "outputs": [
    {
     "data": {
      "text/plain": [
       "(607, 8)"
      ]
     },
     "execution_count": 16,
     "metadata": {},
     "output_type": "execute_result"
    }
   ],
   "source": [
    "concat.shape"
   ]
  },
  {
   "cell_type": "code",
   "execution_count": 17,
   "id": "ee939436",
   "metadata": {},
   "outputs": [],
   "source": [
    "dictio = dict(concat.job_title.value_counts().head(11))"
   ]
  },
  {
   "cell_type": "code",
   "execution_count": 18,
   "id": "4eb62380",
   "metadata": {},
   "outputs": [],
   "source": [
    "lst = list(dictio.keys())"
   ]
  },
  {
   "cell_type": "code",
   "execution_count": 19,
   "id": "b84b8037",
   "metadata": {},
   "outputs": [],
   "source": [
    "job_title = []\n",
    "\n",
    "for e in concat.job_title:\n",
    "    if e not in lst:\n",
    "        job_title.append('Other')\n",
    "    elif e in lst:\n",
    "        job_title.append(e)\n",
    "    else: continue"
   ]
  },
  {
   "cell_type": "code",
   "execution_count": 20,
   "id": "66f7b3a1",
   "metadata": {},
   "outputs": [],
   "source": [
    "numeric_job = {'Data Scientist': 12, 'Data Engineer': 11, 'Data Analyst': 10, 'Machine Learning Engineer': 9,\n",
    "              'Research Scientist': 8, 'Data Science Manager': 7, 'Data Architect': 6, 'Big Data Engineer': 5,\n",
    "               'Machine Learning Scientist': 4, 'Director of Data Science': 3, 'AI Scientist': 2, 'Other': 1}\n",
    "defin = []\n",
    "\n",
    "for e in job_title:\n",
    "    if e in numeric_job:\n",
    "        defin.append(numeric_job[e])"
   ]
  },
  {
   "cell_type": "code",
   "execution_count": 21,
   "id": "b1ae0e09",
   "metadata": {},
   "outputs": [],
   "source": [
    "concat['job_title'] = defin"
   ]
  },
  {
   "cell_type": "code",
   "execution_count": 22,
   "id": "b6216618",
   "metadata": {},
   "outputs": [
    {
     "data": {
      "text/html": [
       "<div>\n",
       "<style scoped>\n",
       "    .dataframe tbody tr th:only-of-type {\n",
       "        vertical-align: middle;\n",
       "    }\n",
       "\n",
       "    .dataframe tbody tr th {\n",
       "        vertical-align: top;\n",
       "    }\n",
       "\n",
       "    .dataframe thead th {\n",
       "        text-align: right;\n",
       "    }\n",
       "</style>\n",
       "<table border=\"1\" class=\"dataframe\">\n",
       "  <thead>\n",
       "    <tr style=\"text-align: right;\">\n",
       "      <th></th>\n",
       "      <th>work_year</th>\n",
       "      <th>experience_level</th>\n",
       "      <th>employment_type</th>\n",
       "      <th>job_title</th>\n",
       "      <th>employee_residence</th>\n",
       "      <th>remote_ratio</th>\n",
       "      <th>company_location</th>\n",
       "      <th>company_size</th>\n",
       "    </tr>\n",
       "  </thead>\n",
       "  <tbody>\n",
       "    <tr>\n",
       "      <th>0</th>\n",
       "      <td>2022</td>\n",
       "      <td>3</td>\n",
       "      <td>4</td>\n",
       "      <td>11</td>\n",
       "      <td>US</td>\n",
       "      <td>100</td>\n",
       "      <td>US</td>\n",
       "      <td>M</td>\n",
       "    </tr>\n",
       "    <tr>\n",
       "      <th>1</th>\n",
       "      <td>2022</td>\n",
       "      <td>3</td>\n",
       "      <td>4</td>\n",
       "      <td>11</td>\n",
       "      <td>US</td>\n",
       "      <td>100</td>\n",
       "      <td>US</td>\n",
       "      <td>M</td>\n",
       "    </tr>\n",
       "    <tr>\n",
       "      <th>2</th>\n",
       "      <td>2021</td>\n",
       "      <td>2</td>\n",
       "      <td>4</td>\n",
       "      <td>1</td>\n",
       "      <td>US</td>\n",
       "      <td>100</td>\n",
       "      <td>US</td>\n",
       "      <td>M</td>\n",
       "    </tr>\n",
       "    <tr>\n",
       "      <th>3</th>\n",
       "      <td>2021</td>\n",
       "      <td>2</td>\n",
       "      <td>2</td>\n",
       "      <td>1</td>\n",
       "      <td>US</td>\n",
       "      <td>100</td>\n",
       "      <td>US</td>\n",
       "      <td>L</td>\n",
       "    </tr>\n",
       "    <tr>\n",
       "      <th>4</th>\n",
       "      <td>2021</td>\n",
       "      <td>2</td>\n",
       "      <td>4</td>\n",
       "      <td>11</td>\n",
       "      <td>RO</td>\n",
       "      <td>0</td>\n",
       "      <td>US</td>\n",
       "      <td>L</td>\n",
       "    </tr>\n",
       "  </tbody>\n",
       "</table>\n",
       "</div>"
      ],
      "text/plain": [
       "   work_year  experience_level  employment_type  job_title employee_residence  \\\n",
       "0       2022                 3                4         11                 US   \n",
       "1       2022                 3                4         11                 US   \n",
       "2       2021                 2                4          1                 US   \n",
       "3       2021                 2                2          1                 US   \n",
       "4       2021                 2                4         11                 RO   \n",
       "\n",
       "   remote_ratio company_location company_size  \n",
       "0           100               US            M  \n",
       "1           100               US            M  \n",
       "2           100               US            M  \n",
       "3           100               US            L  \n",
       "4             0               US            L  "
      ]
     },
     "execution_count": 22,
     "metadata": {},
     "output_type": "execute_result"
    }
   ],
   "source": [
    "concat.head()"
   ]
  },
  {
   "cell_type": "code",
   "execution_count": 23,
   "id": "6c64fd1d",
   "metadata": {
    "scrolled": true
   },
   "outputs": [
    {
     "data": {
      "text/plain": [
       "M    326\n",
       "L    198\n",
       "S     83\n",
       "Name: company_size, dtype: int64"
      ]
     },
     "execution_count": 23,
     "metadata": {},
     "output_type": "execute_result"
    }
   ],
   "source": [
    "concat.company_size.value_counts()"
   ]
  },
  {
   "cell_type": "markdown",
   "id": "d67e7ad1",
   "metadata": {},
   "source": [
    "En función del tamaño de la empresa, se ha asignado un número:\n",
    "+ L: 3\n",
    "+ M: 2\n",
    "+ S: 1"
   ]
  },
  {
   "cell_type": "code",
   "execution_count": 24,
   "id": "69e071ba",
   "metadata": {},
   "outputs": [],
   "source": [
    "comp_size = {'L': 3, 'M': 2, 'S': 1}\n",
    "company_size = []\n",
    "for e in concat.company_size:\n",
    "    if e in comp_size:\n",
    "        company_size.append(comp_size[e])\n",
    "\n",
    "concat['company_size'] = company_size"
   ]
  },
  {
   "cell_type": "code",
   "execution_count": 25,
   "id": "29b56eed",
   "metadata": {},
   "outputs": [
    {
     "data": {
      "text/html": [
       "<div>\n",
       "<style scoped>\n",
       "    .dataframe tbody tr th:only-of-type {\n",
       "        vertical-align: middle;\n",
       "    }\n",
       "\n",
       "    .dataframe tbody tr th {\n",
       "        vertical-align: top;\n",
       "    }\n",
       "\n",
       "    .dataframe thead th {\n",
       "        text-align: right;\n",
       "    }\n",
       "</style>\n",
       "<table border=\"1\" class=\"dataframe\">\n",
       "  <thead>\n",
       "    <tr style=\"text-align: right;\">\n",
       "      <th></th>\n",
       "      <th>work_year</th>\n",
       "      <th>experience_level</th>\n",
       "      <th>employment_type</th>\n",
       "      <th>job_title</th>\n",
       "      <th>employee_residence</th>\n",
       "      <th>remote_ratio</th>\n",
       "      <th>company_location</th>\n",
       "      <th>company_size</th>\n",
       "    </tr>\n",
       "  </thead>\n",
       "  <tbody>\n",
       "    <tr>\n",
       "      <th>0</th>\n",
       "      <td>2022</td>\n",
       "      <td>3</td>\n",
       "      <td>4</td>\n",
       "      <td>11</td>\n",
       "      <td>US</td>\n",
       "      <td>100</td>\n",
       "      <td>US</td>\n",
       "      <td>2</td>\n",
       "    </tr>\n",
       "    <tr>\n",
       "      <th>1</th>\n",
       "      <td>2022</td>\n",
       "      <td>3</td>\n",
       "      <td>4</td>\n",
       "      <td>11</td>\n",
       "      <td>US</td>\n",
       "      <td>100</td>\n",
       "      <td>US</td>\n",
       "      <td>2</td>\n",
       "    </tr>\n",
       "    <tr>\n",
       "      <th>2</th>\n",
       "      <td>2021</td>\n",
       "      <td>2</td>\n",
       "      <td>4</td>\n",
       "      <td>1</td>\n",
       "      <td>US</td>\n",
       "      <td>100</td>\n",
       "      <td>US</td>\n",
       "      <td>2</td>\n",
       "    </tr>\n",
       "    <tr>\n",
       "      <th>3</th>\n",
       "      <td>2021</td>\n",
       "      <td>2</td>\n",
       "      <td>2</td>\n",
       "      <td>1</td>\n",
       "      <td>US</td>\n",
       "      <td>100</td>\n",
       "      <td>US</td>\n",
       "      <td>3</td>\n",
       "    </tr>\n",
       "    <tr>\n",
       "      <th>4</th>\n",
       "      <td>2021</td>\n",
       "      <td>2</td>\n",
       "      <td>4</td>\n",
       "      <td>11</td>\n",
       "      <td>RO</td>\n",
       "      <td>0</td>\n",
       "      <td>US</td>\n",
       "      <td>3</td>\n",
       "    </tr>\n",
       "  </tbody>\n",
       "</table>\n",
       "</div>"
      ],
      "text/plain": [
       "   work_year  experience_level  employment_type  job_title employee_residence  \\\n",
       "0       2022                 3                4         11                 US   \n",
       "1       2022                 3                4         11                 US   \n",
       "2       2021                 2                4          1                 US   \n",
       "3       2021                 2                2          1                 US   \n",
       "4       2021                 2                4         11                 RO   \n",
       "\n",
       "   remote_ratio company_location  company_size  \n",
       "0           100               US             2  \n",
       "1           100               US             2  \n",
       "2           100               US             2  \n",
       "3           100               US             3  \n",
       "4             0               US             3  "
      ]
     },
     "execution_count": 25,
     "metadata": {},
     "output_type": "execute_result"
    }
   ],
   "source": [
    "concat.head()"
   ]
  },
  {
   "cell_type": "code",
   "execution_count": 26,
   "id": "3a0a5a18",
   "metadata": {},
   "outputs": [
    {
     "data": {
      "text/plain": [
       "50"
      ]
     },
     "execution_count": 26,
     "metadata": {},
     "output_type": "execute_result"
    }
   ],
   "source": [
    "len(concat.company_location.value_counts())"
   ]
  },
  {
   "cell_type": "code",
   "execution_count": 27,
   "id": "8081c4e4",
   "metadata": {},
   "outputs": [],
   "source": [
    "le = LabelEncoder()"
   ]
  },
  {
   "cell_type": "code",
   "execution_count": 28,
   "id": "2404914e",
   "metadata": {},
   "outputs": [],
   "source": [
    "concat['company_location'] = le.fit_transform(concat.company_location)"
   ]
  },
  {
   "cell_type": "code",
   "execution_count": 29,
   "id": "7a561628",
   "metadata": {},
   "outputs": [],
   "source": [
    "concat['employee_residence'] = le.fit_transform(concat.employee_residence)"
   ]
  },
  {
   "cell_type": "code",
   "execution_count": 30,
   "id": "3dd30ee1",
   "metadata": {},
   "outputs": [],
   "source": [
    "sal = concat.iloc[:500, :]\n",
    "test = concat.iloc[500:, :]"
   ]
  },
  {
   "cell_type": "code",
   "execution_count": 31,
   "id": "ff8cf366",
   "metadata": {},
   "outputs": [],
   "source": [
    "sal['salaries'] = salaries"
   ]
  },
  {
   "cell_type": "code",
   "execution_count": 32,
   "id": "fca55a23",
   "metadata": {},
   "outputs": [
    {
     "data": {
      "text/html": [
       "<div>\n",
       "<style scoped>\n",
       "    .dataframe tbody tr th:only-of-type {\n",
       "        vertical-align: middle;\n",
       "    }\n",
       "\n",
       "    .dataframe tbody tr th {\n",
       "        vertical-align: top;\n",
       "    }\n",
       "\n",
       "    .dataframe thead th {\n",
       "        text-align: right;\n",
       "    }\n",
       "</style>\n",
       "<table border=\"1\" class=\"dataframe\">\n",
       "  <thead>\n",
       "    <tr style=\"text-align: right;\">\n",
       "      <th></th>\n",
       "      <th>work_year</th>\n",
       "      <th>experience_level</th>\n",
       "      <th>employment_type</th>\n",
       "      <th>job_title</th>\n",
       "      <th>employee_residence</th>\n",
       "      <th>remote_ratio</th>\n",
       "      <th>company_location</th>\n",
       "      <th>company_size</th>\n",
       "      <th>salaries</th>\n",
       "    </tr>\n",
       "  </thead>\n",
       "  <tbody>\n",
       "    <tr>\n",
       "      <th>0</th>\n",
       "      <td>2022</td>\n",
       "      <td>3</td>\n",
       "      <td>4</td>\n",
       "      <td>11</td>\n",
       "      <td>55</td>\n",
       "      <td>100</td>\n",
       "      <td>48</td>\n",
       "      <td>2</td>\n",
       "      <td>140250</td>\n",
       "    </tr>\n",
       "    <tr>\n",
       "      <th>1</th>\n",
       "      <td>2022</td>\n",
       "      <td>3</td>\n",
       "      <td>4</td>\n",
       "      <td>11</td>\n",
       "      <td>55</td>\n",
       "      <td>100</td>\n",
       "      <td>48</td>\n",
       "      <td>2</td>\n",
       "      <td>135000</td>\n",
       "    </tr>\n",
       "    <tr>\n",
       "      <th>2</th>\n",
       "      <td>2021</td>\n",
       "      <td>2</td>\n",
       "      <td>4</td>\n",
       "      <td>1</td>\n",
       "      <td>55</td>\n",
       "      <td>100</td>\n",
       "      <td>48</td>\n",
       "      <td>2</td>\n",
       "      <td>100000</td>\n",
       "    </tr>\n",
       "    <tr>\n",
       "      <th>3</th>\n",
       "      <td>2021</td>\n",
       "      <td>2</td>\n",
       "      <td>2</td>\n",
       "      <td>1</td>\n",
       "      <td>55</td>\n",
       "      <td>100</td>\n",
       "      <td>48</td>\n",
       "      <td>3</td>\n",
       "      <td>270000</td>\n",
       "    </tr>\n",
       "    <tr>\n",
       "      <th>4</th>\n",
       "      <td>2021</td>\n",
       "      <td>2</td>\n",
       "      <td>4</td>\n",
       "      <td>11</td>\n",
       "      <td>47</td>\n",
       "      <td>0</td>\n",
       "      <td>48</td>\n",
       "      <td>3</td>\n",
       "      <td>26005</td>\n",
       "    </tr>\n",
       "  </tbody>\n",
       "</table>\n",
       "</div>"
      ],
      "text/plain": [
       "   work_year  experience_level  employment_type  job_title  \\\n",
       "0       2022                 3                4         11   \n",
       "1       2022                 3                4         11   \n",
       "2       2021                 2                4          1   \n",
       "3       2021                 2                2          1   \n",
       "4       2021                 2                4         11   \n",
       "\n",
       "   employee_residence  remote_ratio  company_location  company_size  salaries  \n",
       "0                  55           100                48             2    140250  \n",
       "1                  55           100                48             2    135000  \n",
       "2                  55           100                48             2    100000  \n",
       "3                  55           100                48             3    270000  \n",
       "4                  47             0                48             3     26005  "
      ]
     },
     "execution_count": 32,
     "metadata": {},
     "output_type": "execute_result"
    }
   ],
   "source": [
    "sal.head()"
   ]
  },
  {
   "cell_type": "code",
   "execution_count": 33,
   "id": "52cad833",
   "metadata": {},
   "outputs": [
    {
     "data": {
      "image/png": "[encoded data removed]",
      "text/plain": [
       "<Figure size 800x800 with 2 Axes>"
      ]
     },
     "metadata": {},
     "output_type": "display_data"
    }
   ],
   "source": [
    "plt.figure(figsize=(8, 8))\n",
    "\n",
    "sns.set(style='darkgrid')\n",
    "\n",
    "mask=np.triu(np.ones_like(sal.corr(), dtype=bool))\n",
    "\n",
    "cmap=sns.diverging_palette(0, 10, as_cmap=True)\n",
    "\n",
    "\n",
    "sns.heatmap(sal.corr(),\n",
    "           mask=mask,\n",
    "          cmap=cmap,\n",
    "          center=0,\n",
    "          square=True,\n",
    "          annot=True,\n",
    "          linewidths=0.5,\n",
    "          cbar_kws={'shrink': 0.5});"
   ]
  },
  {
   "cell_type": "code",
   "execution_count": 34,
   "id": "d747b423",
   "metadata": {},
   "outputs": [],
   "source": [
    "# Eliminamos la columna 'employee_residence' debido a su alta correlación con company_location: una explica a la otra.\n",
    "\n",
    "sal.drop(columns = ['employee_residence'], inplace = True)\n",
    "test.drop(columns = ['employee_residence'], inplace = True)"
   ]
  },
  {
   "cell_type": "markdown",
   "id": "e60a5161",
   "metadata": {},
   "source": [
    "### Utilizamos LazyRegressor() para saber cuál es el modelo de Machine Learning que mejor nos puede funcionar a la hora de predecir los salarios"
   ]
  },
  {
   "cell_type": "code",
   "execution_count": 35,
   "id": "4a4143e9",
   "metadata": {},
   "outputs": [],
   "source": [
    "X = sal.drop(columns = ['salaries'])\n",
    "\n",
    "y = sal.salaries"
   ]
  },
  {
   "cell_type": "code",
   "execution_count": 36,
   "id": "6245564c",
   "metadata": {},
   "outputs": [],
   "source": [
    "X_train, X_test, y_train, y_test = tts(X, y, train_size = 0.8)"
   ]
  },
  {
   "cell_type": "code",
   "execution_count": 37,
   "id": "da906c6d",
   "metadata": {},
   "outputs": [],
   "source": [
    "lazy=LazyRegressor()"
   ]
  },
  {
   "cell_type": "code",
   "execution_count": 38,
   "id": "bbdb6cd3",
   "metadata": {},
   "outputs": [
    {
     "name": "stderr",
     "output_type": "stream",
     "text": [
      "100%|██████████████████████████████████████████████████████████████████████████████████| 42/42 [00:03<00:00, 11.18it/s]\n"
     ]
    },
    {
     "data": {
      "text/plain": [
       "(                               Adjusted R-Squared  R-Squared      RMSE  \\\n",
       " Model                                                                    \n",
       " HistGradientBoostingRegressor                0.40       0.44  61168.20   \n",
       " RandomForestRegressor                        0.39       0.44  61371.83   \n",
       " BaggingRegressor                             0.34       0.39  63822.19   \n",
       " LGBMRegressor                                0.34       0.38  64162.47   \n",
       " GradientBoostingRegressor                    0.33       0.38  64357.60   \n",
       " XGBRegressor                                 0.32       0.37  64714.22   \n",
       " AdaBoostRegressor                            0.32       0.37  64866.80   \n",
       " DecisionTreeRegressor                        0.27       0.33  67069.69   \n",
       " ExtraTreesRegressor                          0.27       0.32  67131.91   \n",
       " KNeighborsRegressor                          0.23       0.29  68970.07   \n",
       " OrthogonalMatchingPursuitCV                  0.23       0.28  69203.57   \n",
       " LassoLarsIC                                  0.22       0.28  69445.30   \n",
       " LassoCV                                      0.22       0.28  69540.79   \n",
       " LassoLarsCV                                  0.22       0.27  69608.89   \n",
       " LarsCV                                       0.22       0.27  69608.89   \n",
       " LassoLars                                    0.22       0.27  69618.10   \n",
       " Lasso                                        0.22       0.27  69623.42   \n",
       " Lars                                         0.22       0.27  69623.70   \n",
       " LinearRegression                             0.22       0.27  69623.70   \n",
       " TransformedTargetRegressor                   0.22       0.27  69623.70   \n",
       " Ridge                                        0.22       0.27  69628.79   \n",
       " SGDRegressor                                 0.22       0.27  69665.54   \n",
       " RidgeCV                                      0.22       0.27  69677.73   \n",
       " BayesianRidge                                0.22       0.27  69710.84   \n",
       " HuberRegressor                               0.21       0.27  69879.25   \n",
       " PassiveAggressiveRegressor                   0.21       0.27  69911.68   \n",
       " PoissonRegressor                             0.20       0.25  70624.89   \n",
       " ElasticNet                                   0.18       0.24  71197.30   \n",
       " ExtraTreeRegressor                           0.18       0.23  71485.24   \n",
       " RANSACRegressor                              0.16       0.22  72321.66   \n",
       " TweedieRegressor                             0.15       0.21  72736.51   \n",
       " GammaRegressor                               0.14       0.20  73131.45   \n",
       " OrthogonalMatchingPursuit                    0.03       0.10  77468.38   \n",
       " ElasticNetCV                                -0.06       0.01  81222.89   \n",
       " DummyRegressor                              -0.08      -0.01  82027.66   \n",
       " NuSVR                                       -0.10      -0.02  82562.15   \n",
       " QuantileRegressor                           -0.12      -0.04  83301.46   \n",
       " SVR                                         -0.12      -0.04  83318.20   \n",
       " KernelRidge                                 -2.01      -1.79 136557.31   \n",
       " LinearSVR                                   -2.34      -2.10 143904.98   \n",
       " MLPRegressor                                -2.35      -2.11 144192.24   \n",
       " GaussianProcessRegressor                   -32.54     -30.17 456132.61   \n",
       " \n",
       "                                Time Taken  \n",
       " Model                                      \n",
       " HistGradientBoostingRegressor        0.37  \n",
       " RandomForestRegressor                0.23  \n",
       " BaggingRegressor                     0.04  \n",
       " LGBMRegressor                        0.07  \n",
       " GradientBoostingRegressor            0.07  \n",
       " XGBRegressor                         0.13  \n",
       " AdaBoostRegressor                    0.06  \n",
       " DecisionTreeRegressor                0.02  \n",
       " ExtraTreesRegressor                  0.18  \n",
       " KNeighborsRegressor                  0.02  \n",
       " OrthogonalMatchingPursuitCV          0.02  \n",
       " LassoLarsIC                          0.02  \n",
       " LassoCV                              0.07  \n",
       " LassoLarsCV                          0.02  \n",
       " LarsCV                               0.02  \n",
       " LassoLars                            0.01  \n",
       " Lasso                                0.02  \n",
       " Lars                                 0.02  \n",
       " LinearRegression                     0.01  \n",
       " TransformedTargetRegressor           0.01  \n",
       " Ridge                                0.01  \n",
       " SGDRegressor                         0.02  \n",
       " RidgeCV                              0.02  \n",
       " BayesianRidge                        0.02  \n",
       " HuberRegressor                       0.03  \n",
       " PassiveAggressiveRegressor           0.05  \n",
       " PoissonRegressor                     0.02  \n",
       " ElasticNet                           0.01  \n",
       " ExtraTreeRegressor                   0.02  \n",
       " RANSACRegressor                      0.08  \n",
       " TweedieRegressor                     0.02  \n",
       " GammaRegressor                       0.01  \n",
       " OrthogonalMatchingPursuit            0.01  \n",
       " ElasticNetCV                         0.09  \n",
       " DummyRegressor                       0.02  \n",
       " NuSVR                                0.04  \n",
       " QuantileRegressor                    1.27  \n",
       " SVR                                  0.04  \n",
       " KernelRidge                          0.02  \n",
       " LinearSVR                            0.01  \n",
       " MLPRegressor                         0.49  \n",
       " GaussianProcessRegressor             0.03  ,\n",
       "                                Adjusted R-Squared  R-Squared      RMSE  \\\n",
       " Model                                                                    \n",
       " HistGradientBoostingRegressor                0.40       0.44  61168.20   \n",
       " RandomForestRegressor                        0.39       0.44  61371.83   \n",
       " BaggingRegressor                             0.34       0.39  63822.19   \n",
       " LGBMRegressor                                0.34       0.38  64162.47   \n",
       " GradientBoostingRegressor                    0.33       0.38  64357.60   \n",
       " XGBRegressor                                 0.32       0.37  64714.22   \n",
       " AdaBoostRegressor                            0.32       0.37  64866.80   \n",
       " DecisionTreeRegressor                        0.27       0.33  67069.69   \n",
       " ExtraTreesRegressor                          0.27       0.32  67131.91   \n",
       " KNeighborsRegressor                          0.23       0.29  68970.07   \n",
       " OrthogonalMatchingPursuitCV                  0.23       0.28  69203.57   \n",
       " LassoLarsIC                                  0.22       0.28  69445.30   \n",
       " LassoCV                                      0.22       0.28  69540.79   \n",
       " LassoLarsCV                                  0.22       0.27  69608.89   \n",
       " LarsCV                                       0.22       0.27  69608.89   \n",
       " LassoLars                                    0.22       0.27  69618.10   \n",
       " Lasso                                        0.22       0.27  69623.42   \n",
       " Lars                                         0.22       0.27  69623.70   \n",
       " LinearRegression                             0.22       0.27  69623.70   \n",
       " TransformedTargetRegressor                   0.22       0.27  69623.70   \n",
       " Ridge                                        0.22       0.27  69628.79   \n",
       " SGDRegressor                                 0.22       0.27  69665.54   \n",
       " RidgeCV                                      0.22       0.27  69677.73   \n",
       " BayesianRidge                                0.22       0.27  69710.84   \n",
       " HuberRegressor                               0.21       0.27  69879.25   \n",
       " PassiveAggressiveRegressor                   0.21       0.27  69911.68   \n",
       " PoissonRegressor                             0.20       0.25  70624.89   \n",
       " ElasticNet                                   0.18       0.24  71197.30   \n",
       " ExtraTreeRegressor                           0.18       0.23  71485.24   \n",
       " RANSACRegressor                              0.16       0.22  72321.66   \n",
       " TweedieRegressor                             0.15       0.21  72736.51   \n",
       " GammaRegressor                               0.14       0.20  73131.45   \n",
       " OrthogonalMatchingPursuit                    0.03       0.10  77468.38   \n",
       " ElasticNetCV                                -0.06       0.01  81222.89   \n",
       " DummyRegressor                              -0.08      -0.01  82027.66   \n",
       " NuSVR                                       -0.10      -0.02  82562.15   \n",
       " QuantileRegressor                           -0.12      -0.04  83301.46   \n",
       " SVR                                         -0.12      -0.04  83318.20   \n",
       " KernelRidge                                 -2.01      -1.79 136557.31   \n",
       " LinearSVR                                   -2.34      -2.10 143904.98   \n",
       " MLPRegressor                                -2.35      -2.11 144192.24   \n",
       " GaussianProcessRegressor                   -32.54     -30.17 456132.61   \n",
       " \n",
       "                                Time Taken  \n",
       " Model                                      \n",
       " HistGradientBoostingRegressor        0.37  \n",
       " RandomForestRegressor                0.23  \n",
       " BaggingRegressor                     0.04  \n",
       " LGBMRegressor                        0.07  \n",
       " GradientBoostingRegressor            0.07  \n",
       " XGBRegressor                         0.13  \n",
       " AdaBoostRegressor                    0.06  \n",
       " DecisionTreeRegressor                0.02  \n",
       " ExtraTreesRegressor                  0.18  \n",
       " KNeighborsRegressor                  0.02  \n",
       " OrthogonalMatchingPursuitCV          0.02  \n",
       " LassoLarsIC                          0.02  \n",
       " LassoCV                              0.07  \n",
       " LassoLarsCV                          0.02  \n",
       " LarsCV                               0.02  \n",
       " LassoLars                            0.01  \n",
       " Lasso                                0.02  \n",
       " Lars                                 0.02  \n",
       " LinearRegression                     0.01  \n",
       " TransformedTargetRegressor           0.01  \n",
       " Ridge                                0.01  \n",
       " SGDRegressor                         0.02  \n",
       " RidgeCV                              0.02  \n",
       " BayesianRidge                        0.02  \n",
       " HuberRegressor                       0.03  \n",
       " PassiveAggressiveRegressor           0.05  \n",
       " PoissonRegressor                     0.02  \n",
       " ElasticNet                           0.01  \n",
       " ExtraTreeRegressor                   0.02  \n",
       " RANSACRegressor                      0.08  \n",
       " TweedieRegressor                     0.02  \n",
       " GammaRegressor                       0.01  \n",
       " OrthogonalMatchingPursuit            0.01  \n",
       " ElasticNetCV                         0.09  \n",
       " DummyRegressor                       0.02  \n",
       " NuSVR                                0.04  \n",
       " QuantileRegressor                    1.27  \n",
       " SVR                                  0.04  \n",
       " KernelRidge                          0.02  \n",
       " LinearSVR                            0.01  \n",
       " MLPRegressor                         0.49  \n",
       " GaussianProcessRegressor             0.03  )"
      ]
     },
     "execution_count": 38,
     "metadata": {},
     "output_type": "execute_result"
    }
   ],
   "source": [
    "lazy.fit(X_train, X_test, y_train, y_test)"
   ]
  },
  {
   "cell_type": "code",
   "execution_count": 39,
   "id": "29a090af",
   "metadata": {},
   "outputs": [],
   "source": [
    "#help(GradientBoostingRegressor.fit)"
   ]
  },
  {
   "cell_type": "code",
   "execution_count": 59,
   "id": "0b959d91",
   "metadata": {},
   "outputs": [],
   "source": [
    "GBR = GradientBoostingRegressor()"
   ]
  },
  {
   "cell_type": "code",
   "execution_count": 60,
   "id": "151e86d9",
   "metadata": {},
   "outputs": [
    {
     "data": {
      "text/plain": [
       "GradientBoostingRegressor()"
      ]
     },
     "execution_count": 60,
     "metadata": {},
     "output_type": "execute_result"
    }
   ],
   "source": [
    "GBR.fit(X, y)"
   ]
  },
  {
   "cell_type": "code",
   "execution_count": 61,
   "id": "698fa59a",
   "metadata": {
    "scrolled": true
   },
   "outputs": [],
   "source": [
    "pred = GBR.predict(test)"
   ]
  },
  {
   "cell_type": "code",
   "execution_count": 62,
   "id": "81a240dd",
   "metadata": {},
   "outputs": [],
   "source": [
    "muestra['salary_in_usd'] = pred"
   ]
  },
  {
   "cell_type": "code",
   "execution_count": 63,
   "id": "0723867d",
   "metadata": {},
   "outputs": [],
   "source": [
    "muestra.to_csv('prediction_models/muestra(GBR).csv', index = False)"
   ]
  },
  {
   "cell_type": "code",
   "execution_count": 64,
   "id": "b8176abb",
   "metadata": {},
   "outputs": [],
   "source": [
    "XGBR = XGBRegressor()"
   ]
  },
  {
   "cell_type": "code",
   "execution_count": 65,
   "id": "e12a8e8f",
   "metadata": {},
   "outputs": [
    {
     "data": {
      "text/plain": [
       "XGBRegressor(base_score=None, booster=None, callbacks=None,\n",
       "             colsample_bylevel=None, colsample_bynode=None,\n",
       "             colsample_bytree=None, early_stopping_rounds=None,\n",
       "             enable_categorical=False, eval_metric=None, feature_types=None,\n",
       "             gamma=None, gpu_id=None, grow_policy=None, importance_type=None,\n",
       "             interaction_constraints=None, learning_rate=None, max_bin=None,\n",
       "             max_cat_threshold=None, max_cat_to_onehot=None,\n",
       "             max_delta_step=None, max_depth=None, max_leaves=None,\n",
       "             min_child_weight=None, missing=nan, monotone_constraints=None,\n",
       "             n_estimators=100, n_jobs=None, num_parallel_tree=None,\n",
       "             predictor=None, random_state=None, ...)"
      ]
     },
     "execution_count": 65,
     "metadata": {},
     "output_type": "execute_result"
    }
   ],
   "source": [
    "XGBR.fit(X, y)"
   ]
  },
  {
   "cell_type": "code",
   "execution_count": 66,
   "id": "a60fd5a1",
   "metadata": {},
   "outputs": [],
   "source": [
    "pred2 = XGBR.predict(test)"
   ]
  },
  {
   "cell_type": "code",
   "execution_count": 67,
   "id": "d1470507",
   "metadata": {},
   "outputs": [],
   "source": [
    "muestra['salary_in_usd'] = pred2"
   ]
  },
  {
   "cell_type": "code",
   "execution_count": 68,
   "id": "1f6805cc",
   "metadata": {},
   "outputs": [],
   "source": [
    "muestra.to_csv('prediction_models/muestra(XGBR).csv', index = False)"
   ]
  },
  {
   "cell_type": "code",
   "execution_count": 69,
   "id": "6c6b065a",
   "metadata": {},
   "outputs": [],
   "source": [
    "RFR = RandomForestRegressor()"
   ]
  },
  {
   "cell_type": "code",
   "execution_count": 70,
   "id": "b893c4a5",
   "metadata": {},
   "outputs": [
    {
     "data": {
      "text/plain": [
       "RandomForestRegressor()"
      ]
     },
     "execution_count": 70,
     "metadata": {},
     "output_type": "execute_result"
    }
   ],
   "source": [
    "RFR.fit(X, y)"
   ]
  },
  {
   "cell_type": "code",
   "execution_count": 71,
   "id": "ca8a9a8a",
   "metadata": {},
   "outputs": [],
   "source": [
    "pred3 = RFR.predict(test)"
   ]
  },
  {
   "cell_type": "code",
   "execution_count": 72,
   "id": "b8ae0379",
   "metadata": {},
   "outputs": [],
   "source": [
    "muestra['salary_in_usd'] = pred3"
   ]
  },
  {
   "cell_type": "code",
   "execution_count": 73,
   "id": "d85ce7dd",
   "metadata": {},
   "outputs": [],
   "source": [
    "muestra.to_csv('prediction_models/muestra(RFR).csv', index = False)"
   ]
  }
 ],
 "metadata": {
  "kernelspec": {
   "display_name": "Python 3 (ipykernel)",
   "language": "python",
   "name": "python3"
  },
  "language_info": {
   "codemirror_mode": {
    "name": "ipython",
    "version": 3
   },
   "file_extension": ".py",
   "mimetype": "text/x-python",
   "name": "python",
   "nbconvert_exporter": "python",
   "pygments_lexer": "ipython3",
   "version": "3.9.13"
  }
 },
 "nbformat": 4,
 "nbformat_minor": 5
}
